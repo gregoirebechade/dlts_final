{
 "cells": [
  {
   "cell_type": "markdown",
   "metadata": {},
   "source": [
    "# Imports"
   ]
  },
  {
   "cell_type": "code",
   "execution_count": 3,
   "metadata": {},
   "outputs": [],
   "source": [
    "import os\n",
    "import matplotlib.pyplot as plt\n",
    "import numpy as np\n",
    "from scipy.io import wavfile\n",
    "from pystoi import stoi # entre 0 et 1. Plus c'est proche de 1, mieux c'est\n",
    "import scipy\n",
    "import torchmetrics\n",
    "from torch.utils.data import DataLoader\n",
    "from torchmetrics.audio.pesq import PerceptualEvaluationSpeechQuality\n",
    "import torch\n",
    "#from dummy import Dummy\n",
    "import torch.nn as nn\n",
    "import torch.nn.functional as F\n",
    "import IPython.display as ipd\n",
    "from scipy.signal import stft, istft\n",
    "#from dummy_model import Dummy_model\n",
    "import tqdm\n",
    "import pandas as pd"
   ]
  },
  {
   "cell_type": "code",
   "execution_count": 4,
   "metadata": {},
   "outputs": [],
   "source": [
    "SAMPLERATE = 8000"
   ]
  },
  {
   "cell_type": "code",
   "execution_count": 5,
   "metadata": {},
   "outputs": [],
   "source": [
    "train_files_clean = os.listdir('./data/Audio/voice_origin/train/train/')\n",
    "train_files_noise = os.listdir('./data/Audio/denoising/train/train/')\n",
    "test_files_clean = os.listdir('./data/Audio/voice_origin/test/test/')\n",
    "test_files_noise = os.listdir('./data/Audio/denoising/test/test/')"
   ]
  },
  {
   "cell_type": "code",
   "execution_count": null,
   "metadata": {},
   "outputs": [],
   "source": [
    "print('Il y a', len(train_files_clean), 'fichiers d\\'entrainement propres')\n",
    "print('Il y a', len(train_files_noise), 'fichiers d\\'entrainement bruités')\n",
    "print('Il y a', len(test_files_clean), 'fichiers de test propres')\n",
    "print('Il y a', len(test_files_noise), 'fichiers de test bruités')"
   ]
  },
  {
   "cell_type": "markdown",
   "metadata": {},
   "source": [
    "Visualisation d'un signal"
   ]
  },
  {
   "cell_type": "code",
   "execution_count": 7,
   "metadata": {},
   "outputs": [],
   "source": [
    "index=9\n",
    "file_clean='./data/Audio/voice_origin/train/train/' + train_files_clean[index]\n",
    "file_noise='./data/Audio/denoising/train/train/' + train_files_noise[index]\n",
    "samplerate_clean, data_clean = wavfile.read(file_clean) # sample rate is the sample frequency of the audio\n",
    "samplerate_noise, data_noise = wavfile.read(file_noise)"
   ]
  },
  {
   "cell_type": "code",
   "execution_count": null,
   "metadata": {},
   "outputs": [],
   "source": [
    "print('Data Propre')\n",
    "ipd.Audio(data=data_clean, rate=samplerate_clean)"
   ]
  },
  {
   "cell_type": "code",
   "execution_count": null,
   "metadata": {},
   "outputs": [],
   "source": [
    "print('Data Buitée')\n",
    "ipd.Audio(data=data_noise, rate=samplerate_noise)"
   ]
  },
  {
   "cell_type": "code",
   "execution_count": null,
   "metadata": {},
   "outputs": [],
   "source": [
    "data_clean = data_clean/np.max(data_clean)\n",
    "data_noise = data_noise/np.max(data_noise)\n",
    "\n",
    "temps = np.arange(len(data_clean))/SAMPLERATE\n",
    "plt.figure(figsize=(10,5))\n",
    "plt.plot(temps, data_noise, label = 'Bruitée')\n",
    "plt.plot(temps, data_clean, label = 'Propre')\n",
    "plt.xlabel('Temps (s)')\n",
    "plt.title('Comparaison des signaux')\n",
    "plt.legend()"
   ]
  },
  {
   "cell_type": "markdown",
   "metadata": {},
   "source": [
    "# U-Net"
   ]
  },
  {
   "cell_type": "markdown",
   "metadata": {},
   "source": [
    "## Data Preprocessing"
   ]
  },
  {
   "cell_type": "markdown",
   "metadata": {},
   "source": [
    "On commence par transformer les données en stft et les stocker dans data. On stocke le stft normalisé (toutes les valeurs sont entre 0 et 1)."
   ]
  },
  {
   "cell_type": "code",
   "execution_count": 86,
   "metadata": {},
   "outputs": [],
   "source": [
    "convert_files = False\n",
    "# set to True to convert the files to spectrogrammes\n",
    "if convert_files: \n",
    "    np.random.seed(0)\n",
    "    for i in tqdm.tqdm(range(len(test_files_noise))):\n",
    "        file = test_files_noise[i]\n",
    "        samplerate, data = wavfile.read('./data/Audio/denoising/test/test/' + file)\n",
    "        frequencies, times, Zxx = stft(data, fs=samplerate, nperseg=500)\n",
    "        pd.DataFrame(data=Zxx).to_csv('./data/spectrogrammes/test/noisy/' + file + '.csv')\n",
    "\n",
    "    for i in tqdm.tqdm(range(len(test_files_clean))):\n",
    "        file = test_files_noise[i]\n",
    "        samplerate, data = wavfile.read('./data/Audio/voice_origin/test/test/' + file)\n",
    "        frequencies, times, Zxx = stft(data, fs=samplerate, nperseg=500)\n",
    "        pd.DataFrame(data=Zxx).to_csv('./data/spectrogrammes/test/origin/' + file + '.csv')\n",
    "        \n",
    "    for i in tqdm.tqdm(range(len(train_files_noise))):\n",
    "        file = train_files_noise[i]\n",
    "        samplerate, data = wavfile.read('./data/Audio/denoising/train/train/' + file)\n",
    "        samplerate_clean, data_clean=wavfile.read('./data/Audio/voice_origin/train/train/' + file)\n",
    "        frequencies, times, Zxx = stft(data, fs=samplerate, nperseg=500)\n",
    "        frequencies_clean, times_clean, Zxx_clean = stft(data_clean, fs=samplerate_clean, nperseg=500)\n",
    "        if np.random.random() > 0.8 :\n",
    "            pd.DataFrame(data=Zxx).to_csv('./data/spectrogrammes/validation/noisy/' + file + '.csv')\n",
    "            pd.DataFrame(data=Zxx_clean).to_csv('./data/spectrogrammes/validation/origin/' + file + '.csv')\n",
    "        else : \n",
    "            pd.DataFrame(data=Zxx).to_csv('./data/spectrogrammes/train/noisy/' + file + '.csv')\n",
    "            pd.DataFrame(data=Zxx_clean).to_csv('./data/spectrogrammes/train/origin/' + file + '.csv')"
   ]
  },
  {
   "cell_type": "markdown",
   "metadata": {},
   "source": [
    "Conversion en fichiers .npy"
   ]
  },
  {
   "cell_type": "code",
   "execution_count": 87,
   "metadata": {},
   "outputs": [],
   "source": [
    "# conversion en npy : \n",
    "convert_files = False\n",
    "  \n",
    "if convert_files: \n",
    "    np.random.seed(0)\n",
    "    for i in tqdm.tqdm(range(len(test_files_noise))):\n",
    "        file = test_files_noise[i]\n",
    "        samplerate, data = wavfile.read('./data/Audio/denoising/test/test/' + file)\n",
    "        frequencies, times, Zxx = stft(data, fs=samplerate, nperseg=500)\n",
    "        np.save('./data/spectrogrammes/test/noisy/' + file + '.npy', Zxx)\n",
    "\n",
    "    for i in tqdm.tqdm(range(len(test_files_clean))):\n",
    "        file = test_files_noise[i]\n",
    "        samplerate, data = wavfile.read('./data/Audio/voice_origin/test/test/' + file)\n",
    "        frequencies, times, Zxx = stft(data, fs=samplerate, nperseg=500)\n",
    "        np.save('./data/spectrogrammes/test/origin/' + file + '.npy', Zxx)\n",
    "        \n",
    "    for i in tqdm.tqdm(range(len(train_files_noise))):\n",
    "        file = train_files_noise[i]\n",
    "        samplerate, data = wavfile.read('./data/Audio/denoising/train/train/' + file)\n",
    "        samplerate_clean, data_clean=wavfile.read('./data/Audio/voice_origin/train/train/' + file)\n",
    "        frequencies, times, Zxx = stft(data, fs=samplerate, nperseg=500)\n",
    "        frequencies_clean, times_clean, Zxx_clean = stft(data_clean, fs=samplerate_clean, nperseg=500)\n",
    "        if np.random.random() > 0.8 :\n",
    "            np.save('./data/spectrogrammes/validation/noisy/' + file + '.npy', Zxx)\n",
    "            np.save('./data/spectrogrammes/validation/origin/' + file + '.npy', Zxx_clean)\n",
    "        else : \n",
    "            np.save('./data/spectrogrammes/train/noisy/' + file + '.npy', Zxx)\n",
    "            np.save('./data/spectrogrammes/train/origin/' + file + '.npy', Zxx_clean)"
   ]
  },
  {
   "cell_type": "code",
   "execution_count": 88,
   "metadata": {},
   "outputs": [
    {
     "data": {
      "image/png": "[encoded data removed]",
      "text/plain": [
       "<Figure size 640x480 with 1 Axes>"
      ]
     },
     "metadata": {},
     "output_type": "display_data"
    }
   ],
   "source": [
    "# visualisation d'un spectrogramme\n",
    "try : \n",
    "    file = train_files_noise[index]\n",
    "    Zxx = np.load('./data/spectrogrammes/train/noisy/' + file + '.npy')\n",
    "    plt.pcolormesh(np.log(np.abs(Zxx)))\n",
    "    plt.title('STFT log-Magnitude')\n",
    "    plt.ylabel('Frequency [Hz]')\n",
    "    plt.xlabel('Time [sec]')\n",
    "    plt.savefig('spectrogramme.png')\n",
    "    plt.show()\n",
    "except :\n",
    "    from PIL import Image\n",
    "    img = Image.open('spectrogramme.png')\n",
    "    display(img)"
   ]
  },
  {
   "cell_type": "code",
   "execution_count": 18,
   "metadata": {},
   "outputs": [],
   "source": [
    "class Mydataset(torch.utils.data.Dataset):\n",
    "    def __init__(self, path_to_data):\n",
    "        self.path_to_data = path_to_data\n",
    "        self.X = [elt for elt in os.listdir(path_to_data + 'noisy/') if 'npy' in elt]\n",
    "        self.Y = [elt for elt in os.listdir(path_to_data + 'origin/') if 'npy' in elt]\n",
    "\n",
    "\n",
    "    def __len__(self):\n",
    "        assert len(self.X) == len(self.Y)\n",
    "        return len(self.X)\n",
    "\n",
    "    def __getitem__(self, idx):\n",
    "        noised=np.load(self.path_to_data + 'noisy/' + self.X[idx], allow_pickle=True)\n",
    "        noised_real=noised.real\n",
    "        noised_imag=noised.imag\n",
    "        origin=np.load(self.path_to_data + 'origin/' + self.Y[idx],  allow_pickle=True)\n",
    "        origin_real=origin.real\n",
    "        origin_imag=origin.imag\n",
    "        return torch.tensor([noised_real, noised_imag]), torch.tensor([origin_real, origin_imag]) # 1, 129, 357 chacuns "
   ]
  },
  {
   "cell_type": "markdown",
   "metadata": {},
   "source": [
    "Création de datasets d'entrainement, de validation et de test."
   ]
  },
  {
   "cell_type": "code",
   "execution_count": null,
   "metadata": {},
   "outputs": [],
   "source": [
    "dataloader_test = DataLoader(Mydataset('./data/spectrogrammes/test/'), batch_size=10 , shuffle=True)\n",
    "dataloader_train = DataLoader(Mydataset('./data/spectrogrammes/train/'), batch_size=10 , shuffle=True)\n",
    "dataloader_validation = DataLoader(Mydataset('./data/spectrogrammes/validation/'), batch_size=10 , shuffle=True)\n",
    "for batch in dataloader_test :\n",
    "  print(batch[0].shape, batch[1].shape)\n",
    "  break\n",
    "print(\"il y a deux canaux au début, un pour la partie réelle et un pour la partie imaginaire\")"
   ]
  },
  {
   "cell_type": "markdown",
   "metadata": {},
   "source": [
    "## Models"
   ]
  },
  {
   "cell_type": "markdown",
   "metadata": {},
   "source": [
    "Dummy model as baseline"
   ]
  },
  {
   "cell_type": "code",
   "execution_count": 20,
   "metadata": {},
   "outputs": [],
   "source": [
    "class Dummy_model(nn.Module): \n",
    "    def __init__(self): \n",
    "        super(Dummy_model, self).__init__()\n",
    "        self.conv1 = nn.Conv2d(in_channels=2, out_channels=1,  kernel_size=11, stride=1, padding='same')\n",
    "    def forward(self, x): # [10, 2, 251, 321]\n",
    "        x = self.conv1(x)\n",
    "        x = F.relu(x) # [10, 1, 251, 321]\n",
    "        return x"
   ]
  },
  {
   "cell_type": "code",
   "execution_count": 21,
   "metadata": {},
   "outputs": [],
   "source": [
    "class Small_Unet (nn.Module):\n",
    "\n",
    "  def __init__(self):\n",
    "    super(Small_Unet, self).__init__()\n",
    "    self.conv1 = nn.Conv2d(in_channels=2, out_channels=16, kernel_size=(11, 11), stride=2, padding=5)\n",
    "    self.conv2 = nn.Conv2d(in_channels=16, out_channels=32, kernel_size=(8, 8), stride=2, padding=4)\n",
    "    self.deconv1 = nn.ConvTranspose2d(in_channels=32, out_channels=16, kernel_size=(8, 8), stride=2, padding=4, output_padding=1)\n",
    "    # drop a dimension in the output to go from [10, 16, 127, 161] to [10, 16, 126, 161] \n",
    "    self.deconv2 = nn.ConvTranspose2d(in_channels=16, out_channels=1, kernel_size=(11, 11), stride=2, padding=5)\n",
    "    \n",
    "\n",
    "  def forward(self, x): # x = [10, 2, 251, 321]\n",
    "    x = F.relu(self.conv1(x)) # [10, 16, 126, 161]\n",
    "    x = F.relu(self.conv2(x)) # [10, 32, 64, 81]\n",
    "    x = F.relu(self.deconv1(x)) #[10, 16, 127, 161]\n",
    "    x = x[:, :, :126, :] # slicing nécessaire pour que les dimensions correspondent, car la convolution transpose n'est pas l'inverse de la convolution x.shape -> #[10, 16, 127, 161]\n",
    "    x = F.relu(self.deconv2(x)) #[10, 1, 251, 321]\n",
    "    return x # on ressort un masque"
   ]
  },
  {
   "cell_type": "code",
   "execution_count": 22,
   "metadata": {},
   "outputs": [],
   "source": [
    "class UNet(nn.Module): \n",
    "    def __init__(self):\n",
    "        super(UNet, self).__init__()\n",
    "        self.conv1 = nn.Conv2d(in_channels=2, out_channels=32, kernel_size=(5, 5), stride=2)\n",
    "        self.conv2 = nn.Conv2d(in_channels=32, out_channels=64, kernel_size=(5, 5), stride=2)\n",
    "        self.conv3 = nn.Conv2d(in_channels=64, out_channels=128, kernel_size=(5, 5), stride=2)\n",
    "        self.conv4 = nn.Conv2d(in_channels=128, out_channels=256, kernel_size=(5, 5), stride=2)\n",
    "        self.conv5 = nn.Conv2d(in_channels=256, out_channels=512, kernel_size=(5, 5), stride=2)\n",
    "        self.deconv1 = nn.ConvTranspose2d(in_channels=512, out_channels=256, kernel_size=(6, 6), stride=2)\n",
    "        self.deconv2 = nn.ConvTranspose2d(in_channels=256, out_channels=128, kernel_size=(6, 6), stride=2)\n",
    "        self.deconv3 = nn.ConvTranspose2d(in_channels=128, out_channels=64, kernel_size=(6, 6), stride=2)\n",
    "        self.deconv4 = nn.ConvTranspose2d(in_channels=64, out_channels=32, kernel_size=(6, 6), stride=2)\n",
    "        self.deconv5 = nn.ConvTranspose2d(in_channels=32, out_channels=1, kernel_size=(5, 5), stride=2)\n",
    "\n",
    "        self.bn1 = nn.BatchNorm2d(32)\n",
    "        self.bn2 = nn.BatchNorm2d(64)\n",
    "        self.bn3 = nn.BatchNorm2d(128)\n",
    "        self.bn4 = nn.BatchNorm2d(256)\n",
    "        self.bn5 = nn.BatchNorm2d(512)\n",
    "        self.bn_deconv1 = nn.BatchNorm2d(256)\n",
    "        self.bn_deconv2 = nn.BatchNorm2d(128)\n",
    "        self.bn_deconv3 = nn.BatchNorm2d(64)\n",
    "        self.bn_deconv4 = nn.BatchNorm2d(32)\n",
    "\n",
    "    def forward(self, x): \n",
    "        x = self.conv1(x)\n",
    "        x = self.bn1(x)\n",
    "        x = F.leaky_relu(x, negative_slope=0.2)\n",
    "        \n",
    "        x = self.conv2(x)\n",
    "        x = self.bn2(x)\n",
    "        x = F.leaky_relu(x, negative_slope=0.2)\n",
    "\n",
    "        x = self.conv3(x)\n",
    "        x = self.bn3(x)\n",
    "        x = F.leaky_relu(x, negative_slope=0.2)\n",
    "\n",
    "        x = self.conv4(x)\n",
    "        x = F.dropout(x, p=0.5)\n",
    "        x = self.bn4(x)\n",
    "\n",
    "        x = self.conv5(x)\n",
    "        x = F.dropout(x, p=0.5)\n",
    "        x = self.bn5(x)\n",
    "\n",
    "        x = self.deconv1(x)\n",
    "        x = x[:, :, :, :17]\n",
    "        x = self.bn_deconv1(x)\n",
    "        x = F.relu(x)\n",
    "        x = F.dropout(x, p=0.5)\n",
    "\n",
    "        x = self.deconv2(x)\n",
    "        x = x[:, :, :, :37]\n",
    "        x = self.bn_deconv2(x)\n",
    "        x = F.relu(x)\n",
    "        x = F.dropout(x, p=0.5)\n",
    "\n",
    "        x = self.deconv3(x)\n",
    "        x = self.bn_deconv3(x)\n",
    "        x = F.relu(x)\n",
    "        x = F.dropout(x, p=0.5)\n",
    "\n",
    "        x = self.deconv4(x)\n",
    "        x = self.bn_deconv4(x)\n",
    "        x = F.relu(x)\n",
    "\n",
    "        x = self.deconv5(x)\n",
    "        x = x[:, :, :, :321]\n",
    "        x = torch.sigmoid(x)\n",
    "        return x"
   ]
  },
  {
   "cell_type": "code",
   "execution_count": null,
   "metadata": {},
   "outputs": [],
   "source": [
    "# number of parameters\n",
    "model = UNet()\n",
    "print('Nombre de paramètres de UNet :', sum(p.numel() for p in model.parameters() if p.requires_grad))\n",
    "model = Small_Unet()\n",
    "print('Nombre de paramètres de Small_Unet :', sum(p.numel() for p in model.parameters() if p.requires_grad))\n",
    "model=Dummy_model()\n",
    "print('Nombre de paramètres de Dummy_model :', sum(p.numel() for p in model.parameters() if p.requires_grad))"
   ]
  },
  {
   "cell_type": "code",
   "execution_count": 24,
   "metadata": {},
   "outputs": [],
   "source": [
    "def compute_receptive_field(model, input_shape):\n",
    "    x = torch.zeros(*input_shape)\n",
    "    x.requires_grad_(True)\n",
    "    output = model(x)\n",
    "    # Choisir un pixel au centre de la sortie\n",
    "    central_pixel = output[..., output.shape[-2] // 2, output.shape[-1] // 2]\n",
    "    central_pixel.backward()\n",
    "    grad = x.grad\n",
    "    field = (grad != 0).nonzero()\n",
    "    min_coords = field.min(dim=0)[0]\n",
    "    max_coords = field.max(dim=0)[0]\n",
    "    return max_coords - min_coords + 1"
   ]
  },
  {
   "cell_type": "code",
   "execution_count": null,
   "metadata": {},
   "outputs": [],
   "source": [
    "print(f\"Le champ réceptif du Unet est tensor([  1,   2, 251, 321])\")"
   ]
  },
  {
   "cell_type": "code",
   "execution_count": null,
   "metadata": {},
   "outputs": [],
   "source": [
    "print(f\"Le champ réceptif du small unet est tensor([ 1,  2, 45, 45])\")\n",
    "print('environ 1.5 sec')"
   ]
  },
  {
   "cell_type": "code",
   "execution_count": null,
   "metadata": {},
   "outputs": [],
   "source": [
    "print(f\"Le champ réceptif du dummy est tensor([ 1,  2, 21, 21])\")\n",
    "print('environ 0.7 sec')"
   ]
  },
  {
   "cell_type": "code",
   "execution_count": 28,
   "metadata": {},
   "outputs": [],
   "source": [
    "chemin_vers_sauvegarde_dummy = './models/dummy_model/'"
   ]
  },
  {
   "cell_type": "code",
   "execution_count": 29,
   "metadata": {},
   "outputs": [],
   "source": [
    "# set train_dummy to True to train the model\n",
    "train_dummy_model = False\n",
    "\n",
    "model_name='dummy_model'\n",
    "if not os.path.exists('./models/'+model_name):\n",
    "    os.makedirs('./models/'+model_name)\n",
    "device = 'cuda:0' if torch.cuda.is_available() else 'cpu'\n",
    "model = Dummy_model()\n",
    "n_epochs=200\n",
    "loss = torch.nn.L1Loss()\n",
    "optimizer = torch.optim.Adam(model.parameters())\n",
    "model.to(device)\n",
    "loss_train=[]\n",
    "loss_val=[]\n",
    "if train_dummy_model:\n",
    "    for epoch in (range(n_epochs)):\n",
    "        print(epoch)\n",
    "        losstrain=0\n",
    "        counttrain=0\n",
    "        lossval=0\n",
    "        countval=0\n",
    "        for batch_x,batch_y in dataloader_train:\n",
    "            counttrain+=1\n",
    "            batch_x=batch_x.to(device)\n",
    "            batch_y = batch_y.long()\n",
    "            batch_y=batch_y.to(device)\n",
    "            optimizer.zero_grad()\n",
    "            mask_predicted = model(batch_x.float())\n",
    "            batch_y_predicted = batch_x * mask_predicted\n",
    "            l = loss(batch_y_predicted, batch_y)\n",
    "            l.backward()\n",
    "            losstrain+=l\n",
    "            optimizer.step()\n",
    "        for batch_x,batch_y in dataloader_validation:\n",
    "            countval+=1\n",
    "            batch_x=batch_x.to(device)\n",
    "            batch_y = batch_y.to(device)\n",
    "            with torch.no_grad():\n",
    "                mask_predicted = model(batch_x.float())\n",
    "                batch_y_predicted =  batch_x * mask_predicted\n",
    "                l = loss(batch_y_predicted, batch_y)\n",
    "                lossval+=l\n",
    "        if epoch%10==0:\n",
    "            print(f'epoch {epoch}, training loss = {losstrain/counttrain}')\n",
    "        loss_train.append(losstrain/counttrain)\n",
    "        loss_val.append(lossval/countval)\n",
    "        \n",
    "    torch.save(model, chemin_vers_sauvegarde_dummy+'_final'+'.pth')\n",
    "\n",
    "\n",
    "    # saving the losses in txt files : \n",
    "    loss_list_val = [loss_val[i].detach().cpu().numpy() for i in range(len(loss_val))]\n",
    "    loss_list_train = [loss_train[i].detach().cpu().numpy() for i in range(len(loss_train))]\n",
    "\n",
    "\n",
    "    with open('./losses/loss_val_'+model_name+'.txt', 'w') as f : \n",
    "        for elt in loss_list_val : \n",
    "            f.write(str(elt) + '\\n')\n",
    "\n",
    "    with open('./losses/loss_train_'+model_name+'.txt', 'w') as f :\n",
    "        for elt in loss_list_train : \n",
    "            f.write(str(elt) + '\\n')"
   ]
  },
  {
   "cell_type": "code",
   "execution_count": null,
   "metadata": {},
   "outputs": [],
   "source": [
    "dummy_model_loaded =  torch.load('models/dummy_model/dummy_model_0.pth',map_location=torch.device('cpu'))"
   ]
  },
  {
   "cell_type": "code",
   "execution_count": 31,
   "metadata": {},
   "outputs": [],
   "source": [
    "chemin_vers_sauvegarde_model ='./models/dummy_snd_test/_final.pth'"
   ]
  },
  {
   "cell_type": "code",
   "execution_count": 32,
   "metadata": {},
   "outputs": [],
   "source": [
    "# set train_dummy to True to train the model\n",
    "train_small_unet = False\n",
    "\n",
    "model_name='dummy_snd_test'\n",
    "if not os.path.exists('./models/'+model_name):\n",
    "    os.makedirs('./models/'+model_name)\n",
    "device = 'cuda:0' if torch.cuda.is_available() else 'cpu'\n",
    "model = Small_Unet()\n",
    "n_epochs=200\n",
    "loss = torch.nn.L1Loss()\n",
    "optimizer = torch.optim.Adam(model.parameters())\n",
    "model.to(device)\n",
    "loss_train=[]\n",
    "loss_val=[]\n",
    "if train_small_unet:\n",
    "    for epoch in (range(n_epochs)):\n",
    "        print(epoch)\n",
    "        losstrain=0\n",
    "        counttrain=0\n",
    "        lossval=0\n",
    "        countval=0\n",
    "        for batch_x,batch_y in dataloader_train:\n",
    "            counttrain+=1\n",
    "            batch_x=batch_x.to(device)\n",
    "            batch_y = batch_y.long()\n",
    "            batch_y=batch_y.to(device)\n",
    "            optimizer.zero_grad()\n",
    "            mask_predicted = model(batch_x.float())\n",
    "            batch_y_predicted = batch_x * mask_predicted\n",
    "            l = loss(batch_y_predicted, batch_y)\n",
    "            l.backward()\n",
    "            losstrain+=l\n",
    "            optimizer.step()\n",
    "        for batch_x,batch_y in dataloader_validation:\n",
    "            countval+=1\n",
    "            batch_x=batch_x.to(device)\n",
    "            batch_y = batch_y.to(device)\n",
    "            with torch.no_grad():\n",
    "                mask_predicted = model(batch_x.float())\n",
    "                batch_y_predicted =  batch_x * mask_predicted\n",
    "                l = loss(batch_y_predicted, batch_y)\n",
    "                lossval+=l\n",
    "        if epoch%10==0:\n",
    "            print(f'epoch {epoch}, training loss = {losstrain/counttrain}')\n",
    "            torch.save(model, chemin_vers_sauvegarde_model+model_name+'_'+str(epoch)+'.pth')\n",
    "        loss_train.append(losstrain/counttrain)\n",
    "        loss_val.append(lossval/countval)\n",
    "        \n",
    "    torch.save(model, chemin_vers_sauvegarde_model+'_final'+'.pth')\n",
    "\n",
    "\n",
    "    # saving the losses in txt files : \n",
    "    loss_list_val = [loss_val[i].detach().cpu().numpy() for i in range(len(loss_val))]\n",
    "    loss_list_train = [loss_train[i].detach().cpu().numpy() for i in range(len(loss_train))]\n",
    "\n",
    "\n",
    "    with open('./losses/loss_val_'+model_name+'.txt', 'w') as f : \n",
    "        for elt in loss_list_val : \n",
    "            f.write(str(elt) + '\\n')\n",
    "\n",
    "    with open('./losses/loss_train_'+model_name+'.txt', 'w') as f :\n",
    "        for elt in loss_list_train : \n",
    "            f.write(str(elt) + '\\n')"
   ]
  },
  {
   "cell_type": "code",
   "execution_count": null,
   "metadata": {},
   "outputs": [],
   "source": [
    "small_unet_loaded =  torch.load(chemin_vers_sauvegarde_model,map_location=torch.device('cpu'))"
   ]
  },
  {
   "cell_type": "code",
   "execution_count": 34,
   "metadata": {},
   "outputs": [],
   "source": [
    "chemin_vers_sauvegarde_unet ='./models/unet/unet'"
   ]
  },
  {
   "cell_type": "code",
   "execution_count": 35,
   "metadata": {},
   "outputs": [],
   "source": [
    "# set train_unet to True to train the model\n",
    "train_unet = False\n",
    "model_name='unet'\n",
    "if not os.path.exists('./models/'+model_name):\n",
    "    os.makedirs('./models/'+model_name)\n",
    "device = 'cuda:0' if torch.cuda.is_available() else 'cpu'\n",
    "model = UNet()\n",
    "n_epochs=500\n",
    "loss = torch.nn.L1Loss()\n",
    "optimizer = torch.optim.Adam(model.parameters())\n",
    "model.to(device)\n",
    "loss_train=[]\n",
    "loss_val=[]\n",
    "if train_unet:\n",
    "    for epoch in (range(n_epochs)):\n",
    "        print(epoch)\n",
    "        losstrain=0\n",
    "        counttrain=0\n",
    "        lossval=0\n",
    "        countval=0\n",
    "        for batch_x,batch_y in dataloader_train:\n",
    "            counttrain+=1\n",
    "            batch_x=batch_x.to(device)\n",
    "            batch_y = batch_y.long()\n",
    "            batch_y=batch_y.to(device)\n",
    "            optimizer.zero_grad()\n",
    "            mask_predicted = model(batch_x.float())\n",
    "            batch_y_predicted = batch_x * mask_predicted\n",
    "            l = loss(batch_y_predicted, batch_y)\n",
    "            l.backward()\n",
    "            losstrain+=l\n",
    "            optimizer.step()\n",
    "        for batch_x,batch_y in dataloader_validation:\n",
    "            countval+=1\n",
    "            batch_x=batch_x.to(device)\n",
    "            batch_y = batch_y.to(device)\n",
    "            with torch.no_grad():\n",
    "                mask_predicted = model(batch_x.float())\n",
    "                batch_y_predicted =  batch_x * mask_predicted\n",
    "                l = loss(batch_y_predicted, batch_y)\n",
    "                lossval+=l\n",
    "        if epoch%10==0:\n",
    "            print(f'epoch {epoch}, training loss = {losstrain/counttrain}')\n",
    "            torch.save(model, chemin_vers_sauvegarde_unet+'_'+str(epoch)+'.pth')\n",
    "        loss_train.append(losstrain/counttrain)\n",
    "        loss_val.append(lossval/countval)\n",
    "        \n",
    "    torch.save(model, chemin_vers_sauvegarde_unet+'_final'+'.pth')\n",
    "\n",
    "\n",
    "    # saving the losses in txt files : \n",
    "    loss_list_val = [loss_val[i].detach().cpu().numpy() for i in range(len(loss_val))]\n",
    "    loss_list_train = [loss_train[i].detach().cpu().numpy() for i in range(len(loss_train))]\n",
    "\n",
    "\n",
    "    with open('./losses/loss_val_'+model_name+'.txt', 'w') as f : \n",
    "        for elt in loss_list_val : \n",
    "            f.write(str(elt) + '\\n')\n",
    "\n",
    "    with open('./losses/loss_train_'+model_name+'.txt', 'w') as f :\n",
    "        for elt in loss_list_train : \n",
    "            f.write(str(elt) + '\\n')"
   ]
  },
  {
   "cell_type": "code",
   "execution_count": null,
   "metadata": {},
   "outputs": [],
   "source": [
    "unet_loaded = torch.load(chemin_vers_sauvegarde_unet+'_final.pth',map_location=torch.device('cpu'))"
   ]
  },
  {
   "cell_type": "code",
   "execution_count": null,
   "metadata": {},
   "outputs": [],
   "source": [
    "idiot_loaded = torch.load('models/model_idiot/model_idiot_170.pth', map_location=torch.device('cpu'))"
   ]
  },
  {
   "cell_type": "code",
   "execution_count": null,
   "metadata": {},
   "outputs": [],
   "source": [
    "with open('./losses/loss_train_dummy_model.txt', 'r') as f : \n",
    "    loss_train = [float(elt) for elt in f.readlines()]\n",
    "\n",
    "with open('./losses/loss_val_dummy_model.txt', 'r') as f :\n",
    "    loss_val = [float(elt) for elt in f.readlines()]\n",
    "plt.plot(loss_train, label='train')\n",
    "plt.plot(loss_val, label='validation')\n",
    "plt.legend()\n",
    "plt.xlabel('epoch')\n",
    "plt.ylabel('L1 loss')\n",
    "plt.title('Loss of the dummy model')\n",
    "plt.show()"
   ]
  },
  {
   "cell_type": "code",
   "execution_count": null,
   "metadata": {},
   "outputs": [],
   "source": [
    "with open('./losses/loss_train_dummy_snd_test.txt', 'r') as f : \n",
    "    loss_train = [float(elt) for elt in f.readlines()]\n",
    "\n",
    "with open('./losses/loss_val_dummy_snd_test.txt', 'r') as f :\n",
    "    loss_val = [float(elt) for elt in f.readlines()]\n",
    "plt.plot(loss_train, label='train')\n",
    "plt.plot(loss_val, label='validation')\n",
    "plt.legend()\n",
    "plt.xlabel('epoch')\n",
    "plt.ylabel('L1 loss')\n",
    "plt.title('Loss of the small unet model')\n",
    "plt.show()"
   ]
  },
  {
   "cell_type": "code",
   "execution_count": null,
   "metadata": {},
   "outputs": [],
   "source": [
    "with open('./losses/loss_train_unet.txt', 'r') as f : \n",
    "    loss_train = [float(elt) for elt in f.readlines()]\n",
    "\n",
    "with open('./losses/loss_val_unet.txt', 'r') as f :\n",
    "    loss_val = [float(elt) for elt in f.readlines()]\n",
    "plt.plot(loss_train, label='train')\n",
    "plt.plot(loss_val, label='validation')\n",
    "plt.legend()\n",
    "plt.xlabel('epoch')\n",
    "plt.ylabel('L1 loss')\n",
    "plt.title('Loss of the Unet model')\n",
    "plt.show()"
   ]
  },
  {
   "cell_type": "markdown",
   "metadata": {},
   "source": [
    "### Evaluation"
   ]
  },
  {
   "cell_type": "markdown",
   "metadata": {},
   "source": [
    "test avec un fichier:"
   ]
  },
  {
   "cell_type": "code",
   "execution_count": 41,
   "metadata": {},
   "outputs": [],
   "source": [
    "index_to_test = 68"
   ]
  },
  {
   "cell_type": "code",
   "execution_count": null,
   "metadata": {},
   "outputs": [],
   "source": [
    "unet_test = unet_loaded\n",
    "small_unet_test = small_unet_loaded\n",
    "dummy_test = idiot_loaded"
   ]
  },
  {
   "cell_type": "code",
   "execution_count": null,
   "metadata": {},
   "outputs": [],
   "source": [
    "try : \n",
    "    samplerate, data = wavfile.read('data/Audio/denoising/test/test/'+ test_files_noise[index_to_test]) \n",
    "    _, _, Zxx = stft(data, fs=samplerate, nperseg=500)\n",
    "    x=torch.tensor([[Zxx.real, Zxx.imag]])\n",
    "    mask = dummy_test(x)\n",
    "    mask = mask.detach().numpy()\n",
    "    mask = np.abs(mask[0, 0])\n",
    "    mask = mask / np.max(mask)\n",
    "    # plot mask \n",
    "    plt.pcolormesh(mask)\n",
    "    plt.title('Mask of the dummy model')\n",
    "    plt.ylabel('Frequency [Hz]')\n",
    "    plt.xlabel('Time [sec]')\n",
    "    # show colorbar\n",
    "    plt.colorbar()\n",
    "    plt.savefig('mask_dummy.png')\n",
    "    plt.show()\n",
    "\n",
    "    mask = small_unet_test(x)\n",
    "    mask = mask.detach().numpy()\n",
    "    mask = np.abs(mask[0, 0])\n",
    "    mask = mask / np.max(mask)\n",
    "    # plot mask \n",
    "    plt.pcolormesh(mask)\n",
    "    plt.title('Mask of the small unet model')\n",
    "    plt.ylabel('Frequency [Hz]')\n",
    "    plt.xlabel('Time [sec]')\n",
    "    # show colorbar\n",
    "    plt.colorbar()\n",
    "    plt.savefig('mask_small_unet.png')\n",
    "    plt.show()\n",
    "\n",
    "\n",
    "    mask = unet_test(x)\n",
    "    mask = mask.detach().numpy()\n",
    "    mask = np.abs(mask[0, 0])\n",
    "    mask = mask / np.max(mask)\n",
    "    # plot mask \n",
    "    plt.pcolormesh(mask)\n",
    "    plt.title('Mask of the unet model')\n",
    "    plt.ylabel('Frequency [Hz]')\n",
    "    plt.xlabel('Time [sec]')\n",
    "    # show colorbar\n",
    "    plt.colorbar()\n",
    "    plt.savefig('mask_unet.png')\n",
    "    plt.show()\n",
    "except :\n",
    "    from PIL import Image\n",
    "    img = Image.open('mask_dummy.png')\n",
    "    display(img)\n",
    "    img = Image.open('mask_small_unet.png')\n",
    "    display(img)\n",
    "    img = Image.open('mask_unet.png')\n",
    "    display(img)"
   ]
  },
  {
   "cell_type": "code",
   "execution_count": null,
   "metadata": {},
   "outputs": [],
   "source": [
    "try : \n",
    "    samplerate, y_noisy = wavfile.read('data/Audio/denoising/test/test/'+ test_files_noise[index_to_test]) \n",
    "    _, y_clean = wavfile.read('data/Audio/voice_origin/test/test/'+ test_files_noise[index_to_test]) \n",
    "    # save both sounds \n",
    "    wavfile.write('data_test/noisy.wav', samplerate, y_noisy)\n",
    "    wavfile.write('data_test/clean.wav', samplerate, y_clean)\n",
    "except : \n",
    "    y_noisy = wavfile.read('data_test/noisy.wav')[1]\n",
    "    y_clean = wavfile.read('data_test/clean.wav')[1]\n",
    "    samplerate = 8000\n",
    "def denoise(model, samplerate, data): # denoising an audio\n",
    "    # le modele doit renvoyer un masque. \n",
    "    _, _, Zxx = stft(data, fs=samplerate, nperseg=500)\n",
    "    assert Zxx.shape == (251, 321)\n",
    "    x=torch.tensor([[Zxx.real, Zxx.imag]])\n",
    "    mask = model(x)\n",
    "    y_predicted = Zxx * mask.detach().numpy()\n",
    "    _, y = istft(y_predicted, fs=samplerate)\n",
    "    return y[0][0] / np.max(y[0][0])\n",
    "\n",
    "y_denoised_dummy_model = denoise(dummy_test, samplerate, y_noisy)\n",
    "plt.plot([i/ samplerate for i in range(len(y_noisy))],   y_noisy/np.max(y_noisy), label='noisy sound')\n",
    "plt.plot([i/ samplerate for i in range(len(y_noisy))], y_denoised_dummy_model, label = 'denoised sound')\n",
    "plt.legend()\n",
    "plt.xlabel('time (s)')\n",
    "plt.title('noisy sound vs denoised sound, Dummy model')\n",
    "plt.show()\n",
    "y_denoised_unet = denoise(unet_test, samplerate, y_noisy)\n",
    "plt.plot([i/ samplerate for i in range(len(y_noisy))],   y_noisy/np.max(y_noisy), label='noisy sound')\n",
    "plt.plot([i/ samplerate for i in range(len(y_noisy))], y_denoised_unet, label = 'denoised sound')\n",
    "plt.legend()\n",
    "plt.xlabel('time (s)')\n",
    "plt.title('noisy sound vs denoised sound, unet')\n",
    "plt.show()\n",
    "y_denoised_small_unet = denoise(small_unet_loaded, samplerate, y_noisy)\n",
    "plt.plot([i/ samplerate for i in range(len(y_noisy))],   y_noisy/np.max(y_noisy), label='noisy sound')\n",
    "plt.plot([i/ samplerate for i in range(len(y_noisy))], y_denoised_small_unet, label = 'denoised sound')\n",
    "plt.legend()\n",
    "plt.xlabel('time (s)')\n",
    "plt.title('noisy sound vs denoised sound, small unet')\n",
    "plt.show()"
   ]
  },
  {
   "cell_type": "markdown",
   "metadata": {},
   "source": [
    "son original:"
   ]
  },
  {
   "cell_type": "code",
   "execution_count": null,
   "metadata": {},
   "outputs": [],
   "source": [
    "ipd.Audio(y_clean, rate=SAMPLERATE)"
   ]
  },
  {
   "cell_type": "markdown",
   "metadata": {},
   "source": [
    "son bruité:"
   ]
  },
  {
   "cell_type": "code",
   "execution_count": null,
   "metadata": {},
   "outputs": [],
   "source": [
    "ipd.Audio(y_noisy, rate=SAMPLERATE)"
   ]
  },
  {
   "cell_type": "markdown",
   "metadata": {},
   "source": [
    "son débruité par dummy :"
   ]
  },
  {
   "cell_type": "code",
   "execution_count": null,
   "metadata": {},
   "outputs": [],
   "source": [
    "ipd.Audio(y_denoised_dummy_model, rate=SAMPLERATE)"
   ]
  },
  {
   "cell_type": "markdown",
   "metadata": {},
   "source": [
    "son débruité par unet"
   ]
  },
  {
   "cell_type": "code",
   "execution_count": null,
   "metadata": {},
   "outputs": [],
   "source": [
    "ipd.Audio(y_denoised_unet, rate=SAMPLERATE)"
   ]
  },
  {
   "cell_type": "markdown",
   "metadata": {},
   "source": [
    "son débruité par small unet"
   ]
  },
  {
   "cell_type": "code",
   "execution_count": null,
   "metadata": {},
   "outputs": [],
   "source": [
    "ipd.Audio(y_denoised_small_unet, rate=SAMPLERATE)"
   ]
  },
  {
   "cell_type": "code",
   "execution_count": null,
   "metadata": {},
   "outputs": [],
   "source": [
    "original_stoi, new_stoi = stoi(y_noisy, y_clean, SAMPLERATE) , stoi(y_denoised_unet, y_clean, SAMPLERATE)\n",
    "print(f\"On passe d'un stoi de {original_stoi} à {new_stoi} en denoisant le signal avec unet\")\n",
    "\n",
    "original_stoi, new_stoi = stoi(y_noisy, y_clean, SAMPLERATE) , stoi(y_denoised_small_unet, y_clean, SAMPLERATE)\n",
    "print(f\"On passe d'un stoi de {original_stoi} à {new_stoi} en denoisant le signal avec small unet\")\n",
    "\n",
    "original_stoi, new_stoi = stoi(y_noisy, y_clean, SAMPLERATE) , stoi(y_denoised_dummy_model, y_clean, SAMPLERATE)\n",
    "print(f\"On passe d'un stoi de {original_stoi} à {new_stoi} en denoisant le signal avec dummy model\")"
   ]
  },
  {
   "cell_type": "code",
   "execution_count": 51,
   "metadata": {},
   "outputs": [],
   "source": [
    "def compute_stoi(model, test_files_noise, test_files_clean):\n",
    "    stoi_values = []\n",
    "    for i in range(len(test_files_noise)):\n",
    "        samplerate, data = wavfile.read('data/Audio/denoising/test/test/'+ test_files_noise[i]) \n",
    "        y = denoise(model, samplerate, data)\n",
    "        _, data_clean = wavfile.read('data/Audio/voice_origin/test/test/'+ test_files_clean[i])\n",
    "        stoi_values.append(stoi(data_clean, y, SAMPLERATE, extended=False))\n",
    "    return np.mean(stoi_values)"
   ]
  },
  {
   "cell_type": "code",
   "execution_count": null,
   "metadata": {},
   "outputs": [],
   "source": [
    "stoi_unet = compute_stoi(unet_test, test_files_noise, test_files_clean)\n",
    "stoi_small_unet = compute_stoi(small_unet_test, test_files_noise, test_files_clean)\n",
    "stoi_dummy = compute_stoi(dummy_test, test_files_noise, test_files_clean)\n",
    "print(f\"Le stoi moyen pour le modèle dummy est de {stoi_dummy}, pour le modèle unet de {stoi_unet} et pour le modèle small unet de {stoi_small_unet}\")"
   ]
  },
  {
   "cell_type": "code",
   "execution_count": null,
   "metadata": {},
   "outputs": [],
   "source": [
    "stoi_unet = 0.9195135710949146\n",
    "stoi_small_unet = 0.926647751686877\n",
    "stoi_dummy = 0.9251321245938533\n",
    "\n",
    "plt.bar(['dummy', 'unet', 'small unet'], [stoi_dummy, stoi_unet, stoi_small_unet], edgecolor='black')\n",
    "plt.ylabel('stoi')\n",
    "plt.title('stoi en fonction du modèle')\n",
    "plt.ylim(0.9, 0.93)"
   ]
  },
  {
   "cell_type": "markdown",
   "metadata": {},
   "source": [
    "Conclusion :\n",
    "\n",
    "STFT :\n",
    "\n",
    "Des résultats meilleurs avec un small unet\n",
    "Unet overfitte probablement\n",
    "Idées d'amélioration :\n",
    "\n",
    "Entraîner sur le spectrogramme pour avoir la puissance plutôt que des nombres complexes + normaliser les données.\n",
    "Utiliser d'autres loss pour étudier leur impact\n",
    "Faire de l'augmentation de données avec des bruits différents, des bruits gaussiens..."
   ]
  },
  {
   "cell_type": "markdown",
   "metadata": {},
   "source": [
    "### Evaluation"
   ]
  },
  {
   "cell_type": "markdown",
   "metadata": {},
   "source": [
    "test avec un fichier:"
   ]
  },
  {
   "cell_type": "code",
   "execution_count": null,
   "metadata": {},
   "outputs": [],
   "source": [
    "index_to_test = 68"
   ]
  },
  {
   "cell_type": "code",
   "execution_count": null,
   "metadata": {},
   "outputs": [],
   "source": [
    "unet_test = unet_loaded\n",
    "small_unet_test = small_unet_loaded\n",
    "dummy_test = idiot_loaded"
   ]
  },
  {
   "cell_type": "code",
   "execution_count": null,
   "metadata": {},
   "outputs": [],
   "source": [
    "try : \n",
    "    samplerate, data = wavfile.read('data/Audio/denoising/test/test/'+ test_files_noise[index_to_test]) \n",
    "    _, _, Zxx = stft(data, fs=samplerate, nperseg=500)\n",
    "    x=torch.tensor([[Zxx.real, Zxx.imag]])\n",
    "    mask = dummy_test(x)\n",
    "    mask = mask.detach().numpy()\n",
    "    mask = np.abs(mask[0, 0])\n",
    "    mask = mask / np.max(mask)\n",
    "    # plot mask \n",
    "    plt.pcolormesh(mask)\n",
    "    plt.title('Mask of the dummy model')\n",
    "    plt.ylabel('Frequency [Hz]')\n",
    "    plt.xlabel('Time [sec]')\n",
    "    # show colorbar\n",
    "    plt.colorbar()\n",
    "    plt.savefig('mask_dummy.png')\n",
    "    plt.show()\n",
    "\n",
    "    mask = small_unet_test(x)\n",
    "    mask = mask.detach().numpy()\n",
    "    mask = np.abs(mask[0, 0])\n",
    "    mask = mask / np.max(mask)\n",
    "    # plot mask \n",
    "    plt.pcolormesh(mask)\n",
    "    plt.title('Mask of the small unet model')\n",
    "    plt.ylabel('Frequency [Hz]')\n",
    "    plt.xlabel('Time [sec]')\n",
    "    # show colorbar\n",
    "    plt.colorbar()\n",
    "    plt.savefig('mask_small_unet.png')\n",
    "    plt.show()\n",
    "\n",
    "\n",
    "    mask = unet_test(x)\n",
    "    mask = mask.detach().numpy()\n",
    "    mask = np.abs(mask[0, 0])\n",
    "    mask = mask / np.max(mask)\n",
    "    # plot mask \n",
    "    plt.pcolormesh(mask)\n",
    "    plt.title('Mask of the unet model')\n",
    "    plt.ylabel('Frequency [Hz]')\n",
    "    plt.xlabel('Time [sec]')\n",
    "    # show colorbar\n",
    "    plt.colorbar()\n",
    "    plt.savefig('mask_unet.png')\n",
    "    plt.show()\n",
    "except :\n",
    "    from PIL import Image\n",
    "    img = Image.open('mask_dummy.png')\n",
    "    display(img)\n",
    "    img = Image.open('mask_small_unet.png')\n",
    "    display(img)\n",
    "    img = Image.open('mask_unet.png')\n",
    "    display(img)"
   ]
  },
  {
   "cell_type": "code",
   "execution_count": null,
   "metadata": {},
   "outputs": [],
   "source": [
    "try : \n",
    "    samplerate, y_noisy = wavfile.read('data/Audio/denoising/test/test/'+ test_files_noise[index_to_test]) \n",
    "    _, y_clean = wavfile.read('data/Audio/voice_origin/test/test/'+ test_files_noise[index_to_test]) \n",
    "    # save both sounds \n",
    "    wavfile.write('data_test/noisy.wav', samplerate, y_noisy)\n",
    "    wavfile.write('data_test/clean.wav', samplerate, y_clean)\n",
    "except : \n",
    "    y_noisy = wavfile.read('data_test/noisy.wav')[1]\n",
    "    y_clean = wavfile.read('data_test/clean.wav')[1]\n",
    "    samplerate = 8000\n",
    "def denoise(model, samplerate, data): # denoising an audio\n",
    "    # le modele doit renvoyer un masque. \n",
    "    _, _, Zxx = stft(data, fs=samplerate, nperseg=500)\n",
    "    assert Zxx.shape == (251, 321)\n",
    "    x=torch.tensor([[Zxx.real, Zxx.imag]])\n",
    "    mask = model(x)\n",
    "    y_predicted = Zxx * mask.detach().numpy()\n",
    "    _, y = istft(y_predicted, fs=samplerate)\n",
    "    return y[0][0] / np.max(y[0][0])\n",
    "\n",
    "y_denoised_dummy_model = denoise(dummy_test, samplerate, y_noisy)\n",
    "plt.plot([i/ samplerate for i in range(len(y_noisy))],   y_noisy/np.max(y_noisy), label='noisy sound')\n",
    "plt.plot([i/ samplerate for i in range(len(y_noisy))], y_denoised_dummy_model, label = 'denoised sound')\n",
    "plt.legend()\n",
    "plt.xlabel('time (s)')\n",
    "plt.title('noisy sound vs denoised sound, Dummy model')\n",
    "plt.show()\n",
    "y_denoised_unet = denoise(unet_test, samplerate, y_noisy)\n",
    "plt.plot([i/ samplerate for i in range(len(y_noisy))],   y_noisy/np.max(y_noisy), label='noisy sound')\n",
    "plt.plot([i/ samplerate for i in range(len(y_noisy))], y_denoised_unet, label = 'denoised sound')\n",
    "plt.legend()\n",
    "plt.xlabel('time (s)')\n",
    "plt.title('noisy sound vs denoised sound, unet')\n",
    "plt.show()\n",
    "y_denoised_small_unet = denoise(small_unet_loaded, samplerate, y_noisy)\n",
    "plt.plot([i/ samplerate for i in range(len(y_noisy))],   y_noisy/np.max(y_noisy), label='noisy sound')\n",
    "plt.plot([i/ samplerate for i in range(len(y_noisy))], y_denoised_small_unet, label = 'denoised sound')\n",
    "plt.legend()\n",
    "plt.xlabel('time (s)')\n",
    "plt.title('noisy sound vs denoised sound, small unet')\n",
    "plt.show()"
   ]
  },
  {
   "cell_type": "markdown",
   "metadata": {},
   "source": [
    "son original:"
   ]
  },
  {
   "cell_type": "code",
   "execution_count": null,
   "metadata": {},
   "outputs": [],
   "source": [
    "ipd.Audio(y_clean, rate=SAMPLERATE)"
   ]
  },
  {
   "cell_type": "markdown",
   "metadata": {},
   "source": [
    "son bruité:"
   ]
  },
  {
   "cell_type": "code",
   "execution_count": null,
   "metadata": {},
   "outputs": [],
   "source": [
    "ipd.Audio(y_noisy, rate=SAMPLERATE)"
   ]
  },
  {
   "cell_type": "markdown",
   "metadata": {},
   "source": [
    "son débruité par dummy :"
   ]
  },
  {
   "cell_type": "code",
   "execution_count": null,
   "metadata": {},
   "outputs": [],
   "source": [
    "ipd.Audio(y_denoised_dummy_model, rate=SAMPLERATE)"
   ]
  },
  {
   "cell_type": "markdown",
   "metadata": {},
   "source": [
    "son débruité par unet"
   ]
  },
  {
   "cell_type": "code",
   "execution_count": null,
   "metadata": {},
   "outputs": [],
   "source": [
    "ipd.Audio(y_denoised_unet, rate=SAMPLERATE)"
   ]
  },
  {
   "cell_type": "markdown",
   "metadata": {},
   "source": [
    "son débruité par small unet"
   ]
  },
  {
   "cell_type": "code",
   "execution_count": null,
   "metadata": {},
   "outputs": [],
   "source": [
    "ipd.Audio(y_denoised_small_unet, rate=SAMPLERATE)"
   ]
  },
  {
   "cell_type": "code",
   "execution_count": null,
   "metadata": {},
   "outputs": [],
   "source": [
    "original_stoi, new_stoi = stoi(y_noisy, y_clean, SAMPLERATE) , stoi(y_denoised_unet, y_clean, SAMPLERATE)\n",
    "print(f\"On passe d'un stoi de {original_stoi} à {new_stoi} en denoisant le signal avec unet\")\n",
    "\n",
    "original_stoi, new_stoi = stoi(y_noisy, y_clean, SAMPLERATE) , stoi(y_denoised_small_unet, y_clean, SAMPLERATE)\n",
    "print(f\"On passe d'un stoi de {original_stoi} à {new_stoi} en denoisant le signal avec small unet\")\n",
    "\n",
    "original_stoi, new_stoi = stoi(y_noisy, y_clean, SAMPLERATE) , stoi(y_denoised_dummy_model, y_clean, SAMPLERATE)\n",
    "print(f\"On passe d'un stoi de {original_stoi} à {new_stoi} en denoisant le signal avec dummy model\")"
   ]
  },
  {
   "cell_type": "code",
   "execution_count": null,
   "metadata": {},
   "outputs": [],
   "source": [
    "def compute_stoi(model, test_files_noise, test_files_clean):\n",
    "    stoi_values = []\n",
    "    for i in range(len(test_files_noise)):\n",
    "        samplerate, data = wavfile.read('data/Audio/denoising/test/test/'+ test_files_noise[i]) \n",
    "        y = denoise(model, samplerate, data)\n",
    "        _, data_clean = wavfile.read('data/Audio/voice_origin/test/test/'+ test_files_clean[i])\n",
    "        stoi_values.append(stoi(data_clean, y, SAMPLERATE, extended=False))\n",
    "    return np.mean(stoi_values)"
   ]
  },
  {
   "cell_type": "code",
   "execution_count": null,
   "metadata": {},
   "outputs": [],
   "source": [
    "stoi_unet = compute_stoi(unet_test, test_files_noise, test_files_clean)\n",
    "stoi_small_unet = compute_stoi(small_unet_test, test_files_noise, test_files_clean)\n",
    "stoi_dummy = compute_stoi(dummy_test, test_files_noise, test_files_clean)\n",
    "print(f\"Le stoi moyen pour le modèle dummy est de {stoi_dummy}, pour le modèle unet de {stoi_unet} et pour le modèle small unet de {stoi_small_unet}\")"
   ]
  },
  {
   "cell_type": "code",
   "execution_count": null,
   "metadata": {},
   "outputs": [],
   "source": [
    "stoi_unet = 0.9195135710949146\n",
    "stoi_small_unet = 0.926647751686877\n",
    "stoi_dummy = 0.9251321245938533\n",
    "\n",
    "plt.bar(['dummy', 'unet', 'small unet'], [stoi_dummy, stoi_unet, stoi_small_unet], edgecolor='black')\n",
    "plt.ylabel('stoi')\n",
    "plt.title('stoi en fonction du modèle')\n",
    "plt.ylim(0.9, 0.93)"
   ]
  },
  {
   "cell_type": "markdown",
   "metadata": {},
   "source": [
    "Conclusion :\n",
    "\n",
    "STFT :\n",
    "\n",
    "Des résultats meilleurs avec un small unet\n",
    "Unet overfitte probablement\n",
    "Idées d'amélioration :\n",
    "\n",
    "Entraîner sur le spectrogramme pour avoir la puissance plutôt que des nombres complexes + normaliser les données.\n",
    "Utiliser d'autres loss pour étudier leur impact\n",
    "Faire de l'augmentation de données avec des bruits différents, des bruits gaussiens..."
   ]
  },
  {
   "cell_type": "markdown",
   "metadata": {},
   "source": [
    "# TasNet"
   ]
  },
  {
   "cell_type": "markdown",
   "metadata": {},
   "source": [
    "## Data Preprocessing"
   ]
  },
  {
   "cell_type": "markdown",
   "metadata": {},
   "source": [
    "On commence par transformer les données en numpy array et les stocker dans data (pour ne pas avoir à le refaire à chaque fois)\n",
    "\n"
   ]
  },
  {
   "cell_type": "code",
   "execution_count": 55,
   "metadata": {},
   "outputs": [],
   "source": [
    "# conversion en npy : \n",
    "convert_files = False\n",
    "  \n",
    "if convert_files: \n",
    "    np.random.seed(0)\n",
    "    for i in tqdm.tqdm(range(len(test_files_noise))):\n",
    "        file = test_files_noise[i]\n",
    "        samplerate, data = wavfile.read('./data/Audio/denoising/test/test/' + file)\n",
    "        np.save('./data/signaux/test/noisy/' + file + '.npy', data)\n",
    "\n",
    "    for i in tqdm.tqdm(range(len(test_files_clean))):\n",
    "        file = test_files_noise[i]\n",
    "        samplerate, data = wavfile.read('./data/Audio/voice_origin/test/test/' + file)\n",
    "        np.save('./data/signaux/test/origin/' + file + '.npy', data)\n",
    "        \n",
    "    for i in tqdm.tqdm(range(len(train_files_noise))):\n",
    "        file = train_files_noise[i]\n",
    "        samplerate, data = wavfile.read('./data/Audio/denoising/train/train/' + file)\n",
    "        samplerate_clean, data_clean=wavfile.read('./data/Audio/voice_origin/train/train/' + file)\n",
    "        if np.random.random() > 0.8 :\n",
    "            np.save('./data/signaux/validation/noisy/' + file + '.npy', data)\n",
    "            np.save('./data/signaux/validation/origin/' + file + '.npy', data_clean)\n",
    "        else : \n",
    "            np.save('./data/signaux/train/noisy/' + file + '.npy', data)\n",
    "            np.save('./data/signaux/train/origin/' + file + '.npy', data_clean)"
   ]
  },
  {
   "cell_type": "code",
   "execution_count": 56,
   "metadata": {},
   "outputs": [],
   "source": [
    "class Mydataset(torch.utils.data.Dataset):\n",
    "    def __init__(self, path_to_data):\n",
    "        self.path_to_data = path_to_data\n",
    "        self.X = [elt for elt in os.listdir(path_to_data + 'noisy/')]\n",
    "        self.Y = [elt for elt in os.listdir(path_to_data + 'origin/')]\n",
    "\n",
    "    def __len__(self):\n",
    "        assert len(self.X) == len(self.Y)\n",
    "        return len(self.X)\n",
    "\n",
    "    def __getitem__(self, idx):\n",
    "        noised=np.load(self.path_to_data + 'noisy/' + self.X[idx], allow_pickle=True)\n",
    "        origin=np.load(self.path_to_data + 'origin/' + self.Y[idx],  allow_pickle=True)\n",
    "        return torch.tensor([noised], dtype=torch.float32), torch.tensor([origin], dtype=torch.float32) # 1, 129, 357 chacuns"
   ]
  },
  {
   "cell_type": "code",
   "execution_count": 60,
   "metadata": {},
   "outputs": [
    {
     "name": "stdout",
     "output_type": "stream",
     "text": [
      "torch.Size([10, 1, 80000]) torch.Size([10, 1, 80000])\n"
     ]
    }
   ],
   "source": [
    "dataloader_test = DataLoader(Mydataset('./data/signaux/test/'), batch_size=10 , shuffle=False)\n",
    "dataloader_train = DataLoader(Mydataset('./data/signaux/train/'), batch_size=10 , shuffle=True)\n",
    "dataloader_validation = DataLoader(Mydataset('./data/signaux/validation/'), batch_size=10 , shuffle=True)\n",
    "for batch in dataloader_test :\n",
    "  print(batch[0].shape, batch[1].shape)\n",
    "  break"
   ]
  },
  {
   "cell_type": "markdown",
   "metadata": {},
   "source": [
    "## TasNet Model"
   ]
  },
  {
   "cell_type": "code",
   "execution_count": 61,
   "metadata": {},
   "outputs": [],
   "source": [
    "class TasNetEncoder(nn.Module):\n",
    "    def __init__(self, N, L):\n",
    "        \"\"\"\n",
    "        Args:\n",
    "            N (int): Number of filters (basis signals in the decoder).\n",
    "            L (int): Length of each filter (segment length).\n",
    "        \"\"\"\n",
    "        super().__init__()\n",
    "        # Convolutional filters for U and V\n",
    "        self.conv1d_U = nn.Conv1d(1, N, L, L, bias=False) #N = number of filters, L = length of each filter, stride = L\n",
    "        self.conv1d_V = nn.Conv1d(1, N, L, L, bias=False)\n",
    "\n",
    "    def forward(self, x):\n",
    "        \"\"\"\n",
    "        Args:\n",
    "            x (torch.Tensor): Input mixture signal (batch_size, 1, time_length).\n",
    "        Returns:\n",
    "            torch.Tensor: Encoded mixture weights (batch_size, K, N),\n",
    "                          where K is the number of segments.\n",
    "        \"\"\"\n",
    "        # Apply gated convolutions\n",
    "        U_out = F.relu(self.conv1d_U(x))  \n",
    "        V_out = torch.sigmoid(self.conv1d_V(x)) \n",
    "\n",
    "        mixture_weights = U_out * V_out\n",
    "\n",
    "        return mixture_weights.permute(0, 2, 1)"
   ]
  },
  {
   "cell_type": "code",
   "execution_count": 62,
   "metadata": {},
   "outputs": [],
   "source": [
    "class TasNetSeparator(nn.Module):\n",
    "    def __init__(self, N, H, P, num_layers, M):\n",
    "        \"\"\"\n",
    "        Args:\n",
    "            N (int): Number of filters (basis signals in the encoder).\n",
    "            H (int): Number of hidden units in the LSTM layers.\n",
    "            P (int): Output dimension of the fully connected layer.\n",
    "            num_layers (int): Number of LSTM layers.\n",
    "            M (int): Number of sources to separate (e.g., M = 1 for denoising).\n",
    "        \"\"\"\n",
    "        super().__init__()\n",
    "        self.M = M\n",
    "\n",
    "        self.gain = nn.Parameter(torch.ones(1, N))\n",
    "        self.bias = nn.Parameter(torch.zeros(1, N))\n",
    "\n",
    "        # LSTM network\n",
    "        self.lstm = nn.LSTM(N, H, num_layers, batch_first=True, bidirectional=False)\n",
    "\n",
    "        # Fully connected layer for mask estimation\n",
    "        self.fc = nn.Linear(H, N * M)  \n",
    "        self.softmax = nn.Softmax(dim=2)\n",
    "\n",
    "    def forward(self, x):\n",
    "        \"\"\"\n",
    "        Args:\n",
    "            x (torch.Tensor): Encoded mixture weights (batch_size, K, N).\n",
    "        Returns:\n",
    "            torch.Tensor: Estimated masks (batch_size, M, K, N).\n",
    "        \"\"\"\n",
    "\n",
    "        mean = x.mean(dim=2, keepdim=True) \n",
    "        std = x.std(dim=2, keepdim=True)    \n",
    "        x_norm = (x - mean) / (std + 1e-8) \n",
    "        x_norm = self.gain * x_norm + self.bias  \n",
    "\n",
    "        # LSTM forward pass\n",
    "        lstm_out, _ = self.lstm(x_norm)  # (batch_size, K, H)\n",
    "\n",
    "        # Mask estimation \n",
    "        mask_logits = self.fc(lstm_out)  \n",
    "        masks = mask_logits.view(x.size(0), x.size(1), self.M, -1)  \n",
    "        masks = self.softmax(masks)  \n",
    "\n",
    "        return masks.permute(0, 2, 1, 3)  # (batch_size, M, K, N)"
   ]
  },
  {
   "cell_type": "code",
   "execution_count": 63,
   "metadata": {},
   "outputs": [],
   "source": [
    "class TasNetDecoder(nn.Module):\n",
    "    def __init__(self, N, L):\n",
    "        \"\"\"\n",
    "        Args:\n",
    "            N (int): Number of filters (basis signals in the encoder/decoder).\n",
    "            L (int): Length of each filter (segment length).\n",
    "        \"\"\"\n",
    "        super().__init__()\n",
    "        self.N = N\n",
    "        self.L = L\n",
    "\n",
    "        self.basis_filters = nn.Parameter(torch.randn(N, L), requires_grad=True)\n",
    "\n",
    "    def forward(self, mixture_weights, masks):\n",
    "        \"\"\"\n",
    "        Args:\n",
    "            mixture_weights (torch.Tensor): Mixture weights (batch_size, K, N).\n",
    "            masks (torch.Tensor): Masks for each source (batch_size, M, K, N).\n",
    "\n",
    "        Returns:\n",
    "            torch.Tensor: Reconstructed waveforms (batch_size, M, time_length).\n",
    "        \"\"\"\n",
    "        # Compute source weights (D_i = W ⊙ M_i)\n",
    "        source_weights = masks * mixture_weights.unsqueeze(1)  # (batch_size, M, K, N)\n",
    "\n",
    "        # Reconstruct segments for each source using the basis filters\n",
    "        source_signals = torch.matmul(source_weights, self.basis_filters)  # (batch_size, M, N, L)\n",
    "\n",
    "        # Concatenate segments along the time dimension\n",
    "        batch_size, M, K, L = source_signals.shape\n",
    "        time_length = K * L\n",
    "        source_signals = source_signals.view(batch_size, M, time_length)  # (batch_size, M, time_length)\n",
    "\n",
    "        return source_signals"
   ]
  },
  {
   "cell_type": "code",
   "execution_count": 64,
   "metadata": {},
   "outputs": [],
   "source": [
    "class TasNet(nn.Module):\n",
    "    def __init__(self, N, L, H, num_layers, M):\n",
    "        \"\"\"\n",
    "        Args:\n",
    "            N (int): Number of filters (basis signals in the encoder/decoder).\n",
    "            L (int): Length of each filter (segment length).\n",
    "            H (int): Number of hidden units in the LSTM layers.\n",
    "            num_layers (int): Number of LSTM layers in the separator.\n",
    "            M (int): Number of sources to separate (e.g., M = 1 for denoising).\n",
    "        \"\"\"\n",
    "        super().__init__()\n",
    "        self.encoder = TasNetEncoder(N=N, L=L)\n",
    "        self.separator = TasNetSeparator(N=N, H=H, P=N, num_layers=num_layers, M=M)\n",
    "        self.decoder = TasNetDecoder(N=N, L=L)\n",
    "\n",
    "    def forward(self, x):\n",
    "        \"\"\"\n",
    "        Args:\n",
    "            x (torch.Tensor): Input mixture waveform (batch_size, 1, time_length).\n",
    "        Returns:\n",
    "            torch.Tensor: Reconstructed waveforms (batch_size, M, time_length).\n",
    "        \"\"\"\n",
    "        # Encode the input mixture waveform into mixture weights\n",
    "        mixture_weights = self.encoder(x)  # Shape: (batch_size, K, N)\n",
    "\n",
    "        # Generate masks for each source\n",
    "        masks = self.separator(mixture_weights)  # Shape: (batch_size, M, K, N)\n",
    "\n",
    "        # Reconstruct the waveforms for each source\n",
    "        reconstructed_waveforms = self.decoder(mixture_weights, masks)\n",
    "\n",
    "        return reconstructed_waveforms"
   ]
  },
  {
   "cell_type": "markdown",
   "metadata": {},
   "source": [
    "## Entrainement"
   ]
  },
  {
   "cell_type": "code",
   "execution_count": 65,
   "metadata": {},
   "outputs": [],
   "source": [
    "def si_snr(y_pred, y_true, eps=1e-8):\n",
    "    y_true_mean = torch.mean(y_true, dim=-1, keepdim=True)\n",
    "    y_pred_mean = torch.mean(y_pred, dim=-1, keepdim=True)\n",
    "    \n",
    "    y_true = y_true - y_true_mean\n",
    "    y_pred = y_pred - y_pred_mean\n",
    "    \n",
    "    dot_product = torch.sum(y_pred * y_true, dim=-1, keepdim=True)\n",
    "    target = dot_product * y_true / (torch.sum(y_true ** 2, dim=-1, keepdim=True) + eps)\n",
    "    noise = y_pred - target\n",
    "    \n",
    "    si_snr_value = 10 * torch.log10(torch.sum(target ** 2, dim=-1) / (torch.sum(noise ** 2, dim=-1) + eps))\n",
    "    return -torch.mean(si_snr_value)"
   ]
  },
  {
   "cell_type": "code",
   "execution_count": 66,
   "metadata": {},
   "outputs": [],
   "source": [
    "def train_tasnet(model, train_loader, val_loader, si_snr_loss, num_epochs, lr, device):\n",
    "    \"\"\"\n",
    "    Args:\n",
    "        model (nn.Module): TasNet model.\n",
    "        train_loader (DataLoader): DataLoader for training data.\n",
    "        val_loader (DataLoader): DataLoader for validation data.\n",
    "        si_snr_loss (function): Loss function (SI-SNR).\n",
    "        num_epochs (int): Number of epochs.\n",
    "        lr (float): Learning rate for Adam optimizer.\n",
    "        device (torch.device): Training device (e.g., 'cuda' or 'cpu').\n",
    "    \"\"\"\n",
    "    # Optimizer\n",
    "    optimizer = Adam(model.parameters(), lr=lr)\n",
    "\n",
    "    #Loss mse\n",
    "    criterion = nn.MSELoss()\n",
    "    \n",
    "    # Move model to device\n",
    "    model = model.to(device)\n",
    "    \n",
    "    train_losses = []\n",
    "    val_losses = []\n",
    "\n",
    "    for epoch in range(num_epochs+1):\n",
    "        print(f\"\\nEpoch {epoch + 1}/{num_epochs}\")\n",
    "        print(\"-\" * 50)\n",
    "        \n",
    "        # === TRAINING ===\n",
    "        model.train()\n",
    "        train_loss = 0.0\n",
    "        \n",
    "        for noisy_signals, clean_signals in tqdm(train_loader, desc=\"Training\", leave=False):\n",
    "            noisy_signals = noisy_signals.to(device)  # (batch_size, 1, time_length)\n",
    "            clean_signals = clean_signals.to(device)  # (batch_size, 1, time_length)\n",
    "\n",
    "            # Forward pass\n",
    "            outputs = model(noisy_signals)  # Shape: (batch_size, M, time_length)\n",
    "\n",
    "            # Compute loss (SI-SNR)\n",
    "            #loss = si_snr_loss(outputs.squeeze(1), clean_signals.squeeze(1))  # Squeeze M dimension\n",
    "            \n",
    "            #compute mse\n",
    "            loss = criterion(outputs.squeeze(1), clean_signals.squeeze(1))\n",
    "            \n",
    "            # Backward pass and optimization\n",
    "            optimizer.zero_grad()\n",
    "            loss.backward()\n",
    "            optimizer.step()\n",
    "            \n",
    "            train_loss += loss.item()\n",
    "        \n",
    "        train_loss /= len(train_loader)\n",
    "        print(f\"Training Loss: {train_loss:.4f}\")\n",
    "        train_losses.append(train_loss)\n",
    "        \n",
    "        # === VALIDATION ===\n",
    "        model.eval()\n",
    "        val_loss = 0.0\n",
    "        \n",
    "        with torch.no_grad():\n",
    "            for noisy_signals, clean_signals in tqdm(val_loader, desc=\"Validation\", leave=False):\n",
    "                \n",
    "                noisy_signals = noisy_signals.to(device)  \n",
    "                clean_signals = clean_signals.to(device) \n",
    "\n",
    "                # Forward pass\n",
    "                outputs = model(noisy_signals)\n",
    "                \n",
    "                # Compute loss\n",
    "                #loss = si_snr_loss(outputs.squeeze(1), clean_signals.squeeze(1))\n",
    "\n",
    "                #mse loss\n",
    "                \n",
    "                loss = criterion(outputs.squeeze(1), clean_signals.squeeze(1))\n",
    "\n",
    "                val_loss += loss.item()\n",
    "        \n",
    "        val_loss /= len(val_loader)\n",
    "        print(f\"Validation Loss: {val_loss:.4f}\")\n",
    "        val_losses.append(val_loss)\n",
    "\n",
    "        #save every 10 epochs\n",
    "        if epoch % 10 == 0:\n",
    "            torch.save(model.state_dict(), f\"tasnet_mse_large_epoch_{epoch}.pth\")\n",
    "        \n",
    "    return train_losses, val_losses"
   ]
  },
  {
   "cell_type": "code",
   "execution_count": 67,
   "metadata": {},
   "outputs": [
    {
     "name": "stdout",
     "output_type": "stream",
     "text": [
      "Number of trainable parameters: 4495420\n"
     ]
    }
   ],
   "source": [
    "L = 40   # Segment length (filter length)\n",
    "N = 500  # Number of filters (basis signals)\n",
    "H = 512  # Hidden units in LSTM\n",
    "num_layers = 2  # Number of LSTM layers\n",
    "M = 1   # Number of sources (e.g., M = 1 for denoising)\n",
    "\n",
    "# Initialize the TasNet model\n",
    "tasnet = TasNet(N=N, L=L, H=H, num_layers=num_layers, M=M)\n",
    "device = torch.device('cuda' if torch.cuda.is_available() else 'cpu')\n",
    "# number of parameters\n",
    "num_params = sum(p.numel() for p in tasnet.parameters() if p.requires_grad)\n",
    "print(f\"Number of trainable parameters: {num_params}\")"
   ]
  },
  {
   "cell_type": "code",
   "execution_count": 68,
   "metadata": {},
   "outputs": [],
   "source": [
    "# on entraine!!\n",
    "\n",
    "train = False\n",
    "\n",
    "if train:\n",
    "    t_loss, v_loss = train_tasnet(\n",
    "            model=tasnet, \n",
    "            train_loader=dataloader_train, \n",
    "            val_loader=dataloader_validation, \n",
    "            si_snr_loss=si_snr, \n",
    "            num_epochs=100,  \n",
    "            lr=3e-4, \n",
    "            device=device\n",
    "        )"
   ]
  },
  {
   "cell_type": "code",
   "execution_count": 69,
   "metadata": {},
   "outputs": [],
   "source": [
    "save = False\n",
    "\n",
    "if save:\n",
    "    # Save to .npy file\n",
    "    np.save(\"t_loss_mse_large.npy\", t_loss)\n",
    "    np.save(\"v_loss_mse_large.npy\", v_loss)"
   ]
  },
  {
   "cell_type": "markdown",
   "metadata": {},
   "source": [
    "# Evaluation"
   ]
  },
  {
   "cell_type": "markdown",
   "metadata": {},
   "source": [
    "## U-Net"
   ]
  },
  {
   "cell_type": "code",
   "execution_count": null,
   "metadata": {},
   "outputs": [],
   "source": [
    "with open('./losses/loss_train_dummy_model.txt', 'r') as f : \n",
    "    loss_train = [float(elt) for elt in f.readlines()]\n",
    "\n",
    "with open('./losses/loss_val_dummy_model.txt', 'r') as f :\n",
    "    loss_val = [float(elt) for elt in f.readlines()]\n",
    "plt.plot(loss_train, label='train')\n",
    "plt.plot(loss_val, label='validation')\n",
    "plt.legend()\n",
    "plt.xlabel('epoch')\n",
    "plt.ylabel('L1 loss')\n",
    "plt.title('Loss of the dummy model')\n",
    "plt.show()"
   ]
  },
  {
   "cell_type": "code",
   "execution_count": null,
   "metadata": {},
   "outputs": [],
   "source": [
    "with open('./losses/loss_train_dummy_snd_test.txt', 'r') as f : \n",
    "    loss_train = [float(elt) for elt in f.readlines()]\n",
    "\n",
    "with open('./losses/loss_val_dummy_snd_test.txt', 'r') as f :\n",
    "    loss_val = [float(elt) for elt in f.readlines()]\n",
    "plt.plot(loss_train, label='train')\n",
    "plt.plot(loss_val, label='validation')\n",
    "plt.legend()\n",
    "plt.xlabel('epoch')\n",
    "plt.ylabel('L1 loss')\n",
    "plt.title('Loss of the small unet model')\n",
    "plt.show()"
   ]
  },
  {
   "cell_type": "code",
   "execution_count": null,
   "metadata": {},
   "outputs": [],
   "source": [
    "with open('./losses/loss_train_unet.txt', 'r') as f : \n",
    "    loss_train = [float(elt) for elt in f.readlines()]\n",
    "\n",
    "with open('./losses/loss_val_unet.txt', 'r') as f :\n",
    "    loss_val = [float(elt) for elt in f.readlines()]\n",
    "plt.plot(loss_train, label='train')\n",
    "plt.plot(loss_val, label='validation')\n",
    "plt.legend()\n",
    "plt.xlabel('epoch')\n",
    "plt.ylabel('L1 loss')\n",
    "plt.title('Loss of the Unet model')\n",
    "plt.show()"
   ]
  },
  {
   "cell_type": "markdown",
   "metadata": {},
   "source": [
    "test avec un fichier:"
   ]
  },
  {
   "cell_type": "code",
   "execution_count": null,
   "metadata": {},
   "outputs": [],
   "source": [
    "index_to_test = 68"
   ]
  },
  {
   "cell_type": "code",
   "execution_count": null,
   "metadata": {},
   "outputs": [],
   "source": [
    "unet_test = unet_loaded\n",
    "small_unet_test = small_unet_loaded\n",
    "dummy_test = idiot_loaded"
   ]
  },
  {
   "cell_type": "code",
   "execution_count": null,
   "metadata": {},
   "outputs": [],
   "source": [
    "try : \n",
    "    samplerate, data = wavfile.read('data/Audio/denoising/test/test/'+ test_files_noise[index_to_test]) \n",
    "    _, _, Zxx = stft(data, fs=samplerate, nperseg=500)\n",
    "    x=torch.tensor([[Zxx.real, Zxx.imag]])\n",
    "    mask = dummy_test(x)\n",
    "    mask = mask.detach().numpy()\n",
    "    mask = np.abs(mask[0, 0])\n",
    "    mask = mask / np.max(mask)\n",
    "    # plot mask \n",
    "    plt.pcolormesh(mask)\n",
    "    plt.title('Mask of the dummy model')\n",
    "    plt.ylabel('Frequency [Hz]')\n",
    "    plt.xlabel('Time [sec]')\n",
    "    # show colorbar\n",
    "    plt.colorbar()\n",
    "    plt.savefig('mask_dummy.png')\n",
    "    plt.show()\n",
    "\n",
    "    mask = small_unet_test(x)\n",
    "    mask = mask.detach().numpy()\n",
    "    mask = np.abs(mask[0, 0])\n",
    "    mask = mask / np.max(mask)\n",
    "    # plot mask \n",
    "    plt.pcolormesh(mask)\n",
    "    plt.title('Mask of the small unet model')\n",
    "    plt.ylabel('Frequency [Hz]')\n",
    "    plt.xlabel('Time [sec]')\n",
    "    # show colorbar\n",
    "    plt.colorbar()\n",
    "    plt.savefig('mask_small_unet.png')\n",
    "    plt.show()\n",
    "\n",
    "\n",
    "    mask = unet_test(x)\n",
    "    mask = mask.detach().numpy()\n",
    "    mask = np.abs(mask[0, 0])\n",
    "    mask = mask / np.max(mask)\n",
    "    # plot mask \n",
    "    plt.pcolormesh(mask)\n",
    "    plt.title('Mask of the unet model')\n",
    "    plt.ylabel('Frequency [Hz]')\n",
    "    plt.xlabel('Time [sec]')\n",
    "    # show colorbar\n",
    "    plt.colorbar()\n",
    "    plt.savefig('mask_unet.png')\n",
    "    plt.show()\n",
    "except :\n",
    "    from PIL import Image\n",
    "    img = Image.open('mask_dummy.png')\n",
    "    display(img)\n",
    "    img = Image.open('mask_small_unet.png')\n",
    "    display(img)\n",
    "    img = Image.open('mask_unet.png')\n",
    "    display(img)"
   ]
  },
  {
   "cell_type": "code",
   "execution_count": null,
   "metadata": {},
   "outputs": [],
   "source": [
    "try : \n",
    "    samplerate, y_noisy = wavfile.read('data/Audio/denoising/test/test/'+ test_files_noise[index_to_test]) \n",
    "    _, y_clean = wavfile.read('data/Audio/voice_origin/test/test/'+ test_files_noise[index_to_test]) \n",
    "    # save both sounds \n",
    "    wavfile.write('data_test/noisy.wav', samplerate, y_noisy)\n",
    "    wavfile.write('data_test/clean.wav', samplerate, y_clean)\n",
    "except : \n",
    "    y_noisy = wavfile.read('data_test/noisy.wav')[1]\n",
    "    y_clean = wavfile.read('data_test/clean.wav')[1]\n",
    "    samplerate = 8000\n",
    "def denoise(model, samplerate, data): # denoising an audio\n",
    "    # le modele doit renvoyer un masque. \n",
    "    _, _, Zxx = stft(data, fs=samplerate, nperseg=500)\n",
    "    assert Zxx.shape == (251, 321)\n",
    "    x=torch.tensor([[Zxx.real, Zxx.imag]])\n",
    "    mask = model(x)\n",
    "    y_predicted = Zxx * mask.detach().numpy()\n",
    "    _, y = istft(y_predicted, fs=samplerate)\n",
    "    return y[0][0] / np.max(y[0][0])\n",
    "\n",
    "y_denoised_dummy_model = denoise(dummy_test, samplerate, y_noisy)\n",
    "plt.plot([i/ samplerate for i in range(len(y_noisy))],   y_noisy/np.max(y_noisy), label='noisy sound')\n",
    "plt.plot([i/ samplerate for i in range(len(y_noisy))], y_denoised_dummy_model, label = 'denoised sound')\n",
    "plt.legend()\n",
    "plt.xlabel('time (s)')\n",
    "plt.title('noisy sound vs denoised sound, Dummy model')\n",
    "plt.show()\n",
    "y_denoised_unet = denoise(unet_test, samplerate, y_noisy)\n",
    "plt.plot([i/ samplerate for i in range(len(y_noisy))],   y_noisy/np.max(y_noisy), label='noisy sound')\n",
    "plt.plot([i/ samplerate for i in range(len(y_noisy))], y_denoised_unet, label = 'denoised sound')\n",
    "plt.legend()\n",
    "plt.xlabel('time (s)')\n",
    "plt.title('noisy sound vs denoised sound, unet')\n",
    "plt.show()\n",
    "y_denoised_small_unet = denoise(small_unet_loaded, samplerate, y_noisy)\n",
    "plt.plot([i/ samplerate for i in range(len(y_noisy))],   y_noisy/np.max(y_noisy), label='noisy sound')\n",
    "plt.plot([i/ samplerate for i in range(len(y_noisy))], y_denoised_small_unet, label = 'denoised sound')\n",
    "plt.legend()\n",
    "plt.xlabel('time (s)')\n",
    "plt.title('noisy sound vs denoised sound, small unet')\n",
    "plt.show()"
   ]
  },
  {
   "cell_type": "markdown",
   "metadata": {},
   "source": [
    "son original:"
   ]
  },
  {
   "cell_type": "code",
   "execution_count": null,
   "metadata": {},
   "outputs": [],
   "source": [
    "ipd.Audio(y_clean, rate=SAMPLERATE)"
   ]
  },
  {
   "cell_type": "markdown",
   "metadata": {},
   "source": [
    "son bruité:"
   ]
  },
  {
   "cell_type": "code",
   "execution_count": null,
   "metadata": {},
   "outputs": [],
   "source": [
    "ipd.Audio(y_noisy, rate=SAMPLERATE)"
   ]
  },
  {
   "cell_type": "markdown",
   "metadata": {},
   "source": [
    "son débruité par dummy :"
   ]
  },
  {
   "cell_type": "code",
   "execution_count": null,
   "metadata": {},
   "outputs": [],
   "source": [
    "ipd.Audio(y_denoised_dummy_model, rate=SAMPLERATE)"
   ]
  },
  {
   "cell_type": "markdown",
   "metadata": {},
   "source": [
    "son débruité par unet"
   ]
  },
  {
   "cell_type": "code",
   "execution_count": null,
   "metadata": {},
   "outputs": [],
   "source": [
    "ipd.Audio(y_denoised_unet, rate=SAMPLERATE)"
   ]
  },
  {
   "cell_type": "markdown",
   "metadata": {},
   "source": [
    "son débruité par small unet"
   ]
  },
  {
   "cell_type": "code",
   "execution_count": null,
   "metadata": {},
   "outputs": [],
   "source": [
    "ipd.Audio(y_denoised_small_unet, rate=SAMPLERATE)"
   ]
  },
  {
   "cell_type": "code",
   "execution_count": null,
   "metadata": {},
   "outputs": [],
   "source": [
    "original_stoi, new_stoi = stoi(y_noisy, y_clean, SAMPLERATE) , stoi(y_denoised_unet, y_clean, SAMPLERATE)\n",
    "print(f\"On passe d'un stoi de {original_stoi} à {new_stoi} en denoisant le signal avec unet\")\n",
    "\n",
    "original_stoi, new_stoi = stoi(y_noisy, y_clean, SAMPLERATE) , stoi(y_denoised_small_unet, y_clean, SAMPLERATE)\n",
    "print(f\"On passe d'un stoi de {original_stoi} à {new_stoi} en denoisant le signal avec small unet\")\n",
    "\n",
    "original_stoi, new_stoi = stoi(y_noisy, y_clean, SAMPLERATE) , stoi(y_denoised_dummy_model, y_clean, SAMPLERATE)\n",
    "print(f\"On passe d'un stoi de {original_stoi} à {new_stoi} en denoisant le signal avec dummy model\")"
   ]
  },
  {
   "cell_type": "code",
   "execution_count": null,
   "metadata": {},
   "outputs": [],
   "source": [
    "def compute_stoi(model, test_files_noise, test_files_clean):\n",
    "    stoi_values = []\n",
    "    for i in range(len(test_files_noise)):\n",
    "        samplerate, data = wavfile.read('data/Audio/denoising/test/test/'+ test_files_noise[i]) \n",
    "        y = denoise(model, samplerate, data)\n",
    "        _, data_clean = wavfile.read('data/Audio/voice_origin/test/test/'+ test_files_clean[i])\n",
    "        stoi_values.append(stoi(data_clean, y, SAMPLERATE, extended=False))\n",
    "    return np.mean(stoi_values)"
   ]
  },
  {
   "cell_type": "code",
   "execution_count": null,
   "metadata": {},
   "outputs": [],
   "source": [
    "stoi_unet = compute_stoi(unet_test, test_files_noise, test_files_clean)\n",
    "stoi_small_unet = compute_stoi(small_unet_test, test_files_noise, test_files_clean)\n",
    "stoi_dummy = compute_stoi(dummy_test, test_files_noise, test_files_clean)\n",
    "print(f\"Le stoi moyen pour le modèle dummy est de {stoi_dummy}, pour le modèle unet de {stoi_unet} et pour le modèle small unet de {stoi_small_unet}\")"
   ]
  },
  {
   "cell_type": "code",
   "execution_count": null,
   "metadata": {},
   "outputs": [],
   "source": [
    "stoi_unet = 0.9195135710949146\n",
    "stoi_small_unet = 0.926647751686877\n",
    "stoi_dummy = 0.9251321245938533\n",
    "\n",
    "plt.bar(['dummy', 'unet', 'small unet'], [stoi_dummy, stoi_unet, stoi_small_unet], edgecolor='black')\n",
    "plt.ylabel('stoi')\n",
    "plt.title('stoi en fonction du modèle')\n",
    "plt.ylim(0.9, 0.93)"
   ]
  },
  {
   "cell_type": "markdown",
   "metadata": {},
   "source": [
    "## Tasnet"
   ]
  },
  {
   "cell_type": "markdown",
   "metadata": {},
   "source": [
    "### Losses"
   ]
  },
  {
   "cell_type": "markdown",
   "metadata": {},
   "source": [
    "SI-SNR loss"
   ]
  },
  {
   "cell_type": "code",
   "execution_count": 70,
   "metadata": {},
   "outputs": [
    {
     "ename": "FileNotFoundError",
     "evalue": "[Errno 2] No such file or directory: 't_loss_sisnr.npy'",
     "output_type": "error",
     "traceback": [
      "\u001b[1;31m---------------------------------------------------------------------------\u001b[0m",
      "\u001b[1;31mFileNotFoundError\u001b[0m                         Traceback (most recent call last)",
      "Cell \u001b[1;32mIn[70], line 2\u001b[0m\n\u001b[0;32m      1\u001b[0m \u001b[38;5;66;03m# Load back\u001b[39;00m\n\u001b[1;32m----> 2\u001b[0m t_loss \u001b[38;5;241m=\u001b[39m \u001b[43mnp\u001b[49m\u001b[38;5;241;43m.\u001b[39;49m\u001b[43mload\u001b[49m\u001b[43m(\u001b[49m\u001b[38;5;124;43m\"\u001b[39;49m\u001b[38;5;124;43mt_loss_sisnr.npy\u001b[39;49m\u001b[38;5;124;43m\"\u001b[39;49m\u001b[43m)\u001b[49m\u001b[38;5;241m.\u001b[39mtolist()\n\u001b[0;32m      3\u001b[0m v_loss \u001b[38;5;241m=\u001b[39m np\u001b[38;5;241m.\u001b[39mload(\u001b[38;5;124m\"\u001b[39m\u001b[38;5;124mv_loss_sisnr.npy\u001b[39m\u001b[38;5;124m\"\u001b[39m)\u001b[38;5;241m.\u001b[39mtolist()\n",
      "File \u001b[1;32mc:\\Users\\vivie\\anaconda3\\envs\\MVA\\lib\\site-packages\\numpy\\lib\\_npyio_impl.py:459\u001b[0m, in \u001b[0;36mload\u001b[1;34m(file, mmap_mode, allow_pickle, fix_imports, encoding, max_header_size)\u001b[0m\n\u001b[0;32m    457\u001b[0m     own_fid \u001b[38;5;241m=\u001b[39m \u001b[38;5;28;01mFalse\u001b[39;00m\n\u001b[0;32m    458\u001b[0m \u001b[38;5;28;01melse\u001b[39;00m:\n\u001b[1;32m--> 459\u001b[0m     fid \u001b[38;5;241m=\u001b[39m stack\u001b[38;5;241m.\u001b[39menter_context(\u001b[38;5;28;43mopen\u001b[39;49m\u001b[43m(\u001b[49m\u001b[43mos\u001b[49m\u001b[38;5;241;43m.\u001b[39;49m\u001b[43mfspath\u001b[49m\u001b[43m(\u001b[49m\u001b[43mfile\u001b[49m\u001b[43m)\u001b[49m\u001b[43m,\u001b[49m\u001b[43m \u001b[49m\u001b[38;5;124;43m\"\u001b[39;49m\u001b[38;5;124;43mrb\u001b[39;49m\u001b[38;5;124;43m\"\u001b[39;49m\u001b[43m)\u001b[49m)\n\u001b[0;32m    460\u001b[0m     own_fid \u001b[38;5;241m=\u001b[39m \u001b[38;5;28;01mTrue\u001b[39;00m\n\u001b[0;32m    462\u001b[0m \u001b[38;5;66;03m# Code to distinguish from NumPy binary files and pickles.\u001b[39;00m\n",
      "\u001b[1;31mFileNotFoundError\u001b[0m: [Errno 2] No such file or directory: 't_loss_sisnr.npy'"
     ]
    }
   ],
   "source": [
    "# Load back\n",
    "t_loss = np.load(\"t_loss_sisnr.npy\").tolist()\n",
    "v_loss = np.load(\"v_loss_sisnr.npy\").tolist()"
   ]
  },
  {
   "cell_type": "code",
   "execution_count": 71,
   "metadata": {},
   "outputs": [
    {
     "ename": "NameError",
     "evalue": "name 't_loss' is not defined",
     "output_type": "error",
     "traceback": [
      "\u001b[1;31m---------------------------------------------------------------------------\u001b[0m",
      "\u001b[1;31mNameError\u001b[0m                                 Traceback (most recent call last)",
      "Cell \u001b[1;32mIn[71], line 2\u001b[0m\n\u001b[0;32m      1\u001b[0m plt\u001b[38;5;241m.\u001b[39mfigure(figsize\u001b[38;5;241m=\u001b[39m(\u001b[38;5;241m10\u001b[39m, \u001b[38;5;241m5\u001b[39m))\n\u001b[1;32m----> 2\u001b[0m plt\u001b[38;5;241m.\u001b[39mplot(\u001b[43mt_loss\u001b[49m, label\u001b[38;5;241m=\u001b[39m\u001b[38;5;124m'\u001b[39m\u001b[38;5;124mTraining loss\u001b[39m\u001b[38;5;124m'\u001b[39m)\n\u001b[0;32m      3\u001b[0m plt\u001b[38;5;241m.\u001b[39mplot(v_loss, label\u001b[38;5;241m=\u001b[39m\u001b[38;5;124m'\u001b[39m\u001b[38;5;124mValidation loss\u001b[39m\u001b[38;5;124m'\u001b[39m)\n\u001b[0;32m      4\u001b[0m plt\u001b[38;5;241m.\u001b[39mtitle(\u001b[38;5;124m'\u001b[39m\u001b[38;5;124mTraining and validation loss with SI-SNR loss\u001b[39m\u001b[38;5;124m'\u001b[39m)\n",
      "\u001b[1;31mNameError\u001b[0m: name 't_loss' is not defined"
     ]
    },
    {
     "data": {
      "text/plain": [
       "<Figure size 1000x500 with 0 Axes>"
      ]
     },
     "metadata": {},
     "output_type": "display_data"
    }
   ],
   "source": [
    "plt.figure(figsize=(10, 5))\n",
    "plt.plot(t_loss, label='Training loss')\n",
    "plt.plot(v_loss, label='Validation loss')\n",
    "plt.title('Training and validation loss with SI-SNR loss')\n",
    "plt.xlabel('Epoch')\n",
    "plt.ylabel('Loss')\n",
    "plt.legend()\n",
    "plt.show()"
   ]
  },
  {
   "cell_type": "markdown",
   "metadata": {},
   "source": [
    "MSE (small model)"
   ]
  },
  {
   "cell_type": "code",
   "execution_count": 72,
   "metadata": {},
   "outputs": [
    {
     "ename": "FileNotFoundError",
     "evalue": "[Errno 2] No such file or directory: 't_loss_mse_small.npy'",
     "output_type": "error",
     "traceback": [
      "\u001b[1;31m---------------------------------------------------------------------------\u001b[0m",
      "\u001b[1;31mFileNotFoundError\u001b[0m                         Traceback (most recent call last)",
      "Cell \u001b[1;32mIn[72], line 2\u001b[0m\n\u001b[0;32m      1\u001b[0m \u001b[38;5;66;03m# Load back\u001b[39;00m\n\u001b[1;32m----> 2\u001b[0m t_loss \u001b[38;5;241m=\u001b[39m \u001b[43mnp\u001b[49m\u001b[38;5;241;43m.\u001b[39;49m\u001b[43mload\u001b[49m\u001b[43m(\u001b[49m\u001b[38;5;124;43m\"\u001b[39;49m\u001b[38;5;124;43mt_loss_mse_small.npy\u001b[39;49m\u001b[38;5;124;43m\"\u001b[39;49m\u001b[43m)\u001b[49m\u001b[38;5;241m.\u001b[39mtolist()\n\u001b[0;32m      3\u001b[0m v_loss \u001b[38;5;241m=\u001b[39m np\u001b[38;5;241m.\u001b[39mload(\u001b[38;5;124m\"\u001b[39m\u001b[38;5;124mv_loss_mse_small.npy\u001b[39m\u001b[38;5;124m\"\u001b[39m)\u001b[38;5;241m.\u001b[39mtolist()\n",
      "File \u001b[1;32mc:\\Users\\vivie\\anaconda3\\envs\\MVA\\lib\\site-packages\\numpy\\lib\\_npyio_impl.py:459\u001b[0m, in \u001b[0;36mload\u001b[1;34m(file, mmap_mode, allow_pickle, fix_imports, encoding, max_header_size)\u001b[0m\n\u001b[0;32m    457\u001b[0m     own_fid \u001b[38;5;241m=\u001b[39m \u001b[38;5;28;01mFalse\u001b[39;00m\n\u001b[0;32m    458\u001b[0m \u001b[38;5;28;01melse\u001b[39;00m:\n\u001b[1;32m--> 459\u001b[0m     fid \u001b[38;5;241m=\u001b[39m stack\u001b[38;5;241m.\u001b[39menter_context(\u001b[38;5;28;43mopen\u001b[39;49m\u001b[43m(\u001b[49m\u001b[43mos\u001b[49m\u001b[38;5;241;43m.\u001b[39;49m\u001b[43mfspath\u001b[49m\u001b[43m(\u001b[49m\u001b[43mfile\u001b[49m\u001b[43m)\u001b[49m\u001b[43m,\u001b[49m\u001b[43m \u001b[49m\u001b[38;5;124;43m\"\u001b[39;49m\u001b[38;5;124;43mrb\u001b[39;49m\u001b[38;5;124;43m\"\u001b[39;49m\u001b[43m)\u001b[49m)\n\u001b[0;32m    460\u001b[0m     own_fid \u001b[38;5;241m=\u001b[39m \u001b[38;5;28;01mTrue\u001b[39;00m\n\u001b[0;32m    462\u001b[0m \u001b[38;5;66;03m# Code to distinguish from NumPy binary files and pickles.\u001b[39;00m\n",
      "\u001b[1;31mFileNotFoundError\u001b[0m: [Errno 2] No such file or directory: 't_loss_mse_small.npy'"
     ]
    }
   ],
   "source": [
    "# Load back\n",
    "t_loss = np.load(\"t_loss_mse_small.npy\").tolist()\n",
    "v_loss = np.load(\"v_loss_mse_small.npy\").tolist()"
   ]
  },
  {
   "cell_type": "code",
   "execution_count": 73,
   "metadata": {},
   "outputs": [
    {
     "ename": "NameError",
     "evalue": "name 't_loss' is not defined",
     "output_type": "error",
     "traceback": [
      "\u001b[1;31m---------------------------------------------------------------------------\u001b[0m",
      "\u001b[1;31mNameError\u001b[0m                                 Traceback (most recent call last)",
      "Cell \u001b[1;32mIn[73], line 2\u001b[0m\n\u001b[0;32m      1\u001b[0m plt\u001b[38;5;241m.\u001b[39mfigure(figsize\u001b[38;5;241m=\u001b[39m(\u001b[38;5;241m10\u001b[39m, \u001b[38;5;241m5\u001b[39m))\n\u001b[1;32m----> 2\u001b[0m plt\u001b[38;5;241m.\u001b[39mplot(\u001b[43mt_loss\u001b[49m, label\u001b[38;5;241m=\u001b[39m\u001b[38;5;124m'\u001b[39m\u001b[38;5;124mTraining loss\u001b[39m\u001b[38;5;124m'\u001b[39m)\n\u001b[0;32m      3\u001b[0m plt\u001b[38;5;241m.\u001b[39mplot(v_loss, label\u001b[38;5;241m=\u001b[39m\u001b[38;5;124m'\u001b[39m\u001b[38;5;124mValidation loss\u001b[39m\u001b[38;5;124m'\u001b[39m)\n\u001b[0;32m      4\u001b[0m plt\u001b[38;5;241m.\u001b[39mtitle(\u001b[38;5;124m'\u001b[39m\u001b[38;5;124mTraining and validation loss with MSE loss\u001b[39m\u001b[38;5;124m'\u001b[39m)\n",
      "\u001b[1;31mNameError\u001b[0m: name 't_loss' is not defined"
     ]
    },
    {
     "data": {
      "text/plain": [
       "<Figure size 1000x500 with 0 Axes>"
      ]
     },
     "metadata": {},
     "output_type": "display_data"
    }
   ],
   "source": [
    "plt.figure(figsize=(10, 5))\n",
    "plt.plot(t_loss, label='Training loss')\n",
    "plt.plot(v_loss, label='Validation loss')\n",
    "plt.title('Training and validation loss with MSE loss')\n",
    "plt.xlabel('Epoch')\n",
    "plt.ylabel('Loss')\n",
    "plt.legend()\n",
    "plt.show()"
   ]
  },
  {
   "cell_type": "markdown",
   "metadata": {},
   "source": [
    "MSE large model"
   ]
  },
  {
   "cell_type": "code",
   "execution_count": 74,
   "metadata": {},
   "outputs": [
    {
     "ename": "FileNotFoundError",
     "evalue": "[Errno 2] No such file or directory: 't_loss_mse_large.npy'",
     "output_type": "error",
     "traceback": [
      "\u001b[1;31m---------------------------------------------------------------------------\u001b[0m",
      "\u001b[1;31mFileNotFoundError\u001b[0m                         Traceback (most recent call last)",
      "Cell \u001b[1;32mIn[74], line 2\u001b[0m\n\u001b[0;32m      1\u001b[0m \u001b[38;5;66;03m# Load back\u001b[39;00m\n\u001b[1;32m----> 2\u001b[0m t_loss \u001b[38;5;241m=\u001b[39m \u001b[43mnp\u001b[49m\u001b[38;5;241;43m.\u001b[39;49m\u001b[43mload\u001b[49m\u001b[43m(\u001b[49m\u001b[38;5;124;43m\"\u001b[39;49m\u001b[38;5;124;43mt_loss_mse_large.npy\u001b[39;49m\u001b[38;5;124;43m\"\u001b[39;49m\u001b[43m)\u001b[49m\u001b[38;5;241m.\u001b[39mtolist()\n\u001b[0;32m      3\u001b[0m v_loss \u001b[38;5;241m=\u001b[39m np\u001b[38;5;241m.\u001b[39mload(\u001b[38;5;124m\"\u001b[39m\u001b[38;5;124mv_loss_mse_large.npy\u001b[39m\u001b[38;5;124m\"\u001b[39m)\u001b[38;5;241m.\u001b[39mtolist()\n",
      "File \u001b[1;32mc:\\Users\\vivie\\anaconda3\\envs\\MVA\\lib\\site-packages\\numpy\\lib\\_npyio_impl.py:459\u001b[0m, in \u001b[0;36mload\u001b[1;34m(file, mmap_mode, allow_pickle, fix_imports, encoding, max_header_size)\u001b[0m\n\u001b[0;32m    457\u001b[0m     own_fid \u001b[38;5;241m=\u001b[39m \u001b[38;5;28;01mFalse\u001b[39;00m\n\u001b[0;32m    458\u001b[0m \u001b[38;5;28;01melse\u001b[39;00m:\n\u001b[1;32m--> 459\u001b[0m     fid \u001b[38;5;241m=\u001b[39m stack\u001b[38;5;241m.\u001b[39menter_context(\u001b[38;5;28;43mopen\u001b[39;49m\u001b[43m(\u001b[49m\u001b[43mos\u001b[49m\u001b[38;5;241;43m.\u001b[39;49m\u001b[43mfspath\u001b[49m\u001b[43m(\u001b[49m\u001b[43mfile\u001b[49m\u001b[43m)\u001b[49m\u001b[43m,\u001b[49m\u001b[43m \u001b[49m\u001b[38;5;124;43m\"\u001b[39;49m\u001b[38;5;124;43mrb\u001b[39;49m\u001b[38;5;124;43m\"\u001b[39;49m\u001b[43m)\u001b[49m)\n\u001b[0;32m    460\u001b[0m     own_fid \u001b[38;5;241m=\u001b[39m \u001b[38;5;28;01mTrue\u001b[39;00m\n\u001b[0;32m    462\u001b[0m \u001b[38;5;66;03m# Code to distinguish from NumPy binary files and pickles.\u001b[39;00m\n",
      "\u001b[1;31mFileNotFoundError\u001b[0m: [Errno 2] No such file or directory: 't_loss_mse_large.npy'"
     ]
    }
   ],
   "source": [
    "# Load back\n",
    "t_loss = np.load(\"t_loss_mse_large.npy\").tolist()\n",
    "v_loss = np.load(\"v_loss_mse_large.npy\").tolist()"
   ]
  },
  {
   "cell_type": "code",
   "execution_count": 75,
   "metadata": {},
   "outputs": [
    {
     "ename": "NameError",
     "evalue": "name 't_loss' is not defined",
     "output_type": "error",
     "traceback": [
      "\u001b[1;31m---------------------------------------------------------------------------\u001b[0m",
      "\u001b[1;31mNameError\u001b[0m                                 Traceback (most recent call last)",
      "Cell \u001b[1;32mIn[75], line 2\u001b[0m\n\u001b[0;32m      1\u001b[0m plt\u001b[38;5;241m.\u001b[39mfigure(figsize\u001b[38;5;241m=\u001b[39m(\u001b[38;5;241m10\u001b[39m, \u001b[38;5;241m5\u001b[39m))\n\u001b[1;32m----> 2\u001b[0m plt\u001b[38;5;241m.\u001b[39mplot(\u001b[43mt_loss\u001b[49m, label\u001b[38;5;241m=\u001b[39m\u001b[38;5;124m'\u001b[39m\u001b[38;5;124mTraining loss\u001b[39m\u001b[38;5;124m'\u001b[39m)\n\u001b[0;32m      3\u001b[0m plt\u001b[38;5;241m.\u001b[39mplot(v_loss, label\u001b[38;5;241m=\u001b[39m\u001b[38;5;124m'\u001b[39m\u001b[38;5;124mValidation loss\u001b[39m\u001b[38;5;124m'\u001b[39m)\n\u001b[0;32m      4\u001b[0m plt\u001b[38;5;241m.\u001b[39mtitle(\u001b[38;5;124m'\u001b[39m\u001b[38;5;124mTraining and validation loss with MSE loss\u001b[39m\u001b[38;5;124m'\u001b[39m)\n",
      "\u001b[1;31mNameError\u001b[0m: name 't_loss' is not defined"
     ]
    },
    {
     "data": {
      "text/plain": [
       "<Figure size 1000x500 with 0 Axes>"
      ]
     },
     "metadata": {},
     "output_type": "display_data"
    }
   ],
   "source": [
    "plt.figure(figsize=(10, 5))\n",
    "plt.plot(t_loss, label='Training loss')\n",
    "plt.plot(v_loss, label='Validation loss')\n",
    "plt.title('Training and validation loss with MSE loss')\n",
    "plt.xlabel('Epoch')\n",
    "plt.ylabel('Loss')\n",
    "plt.legend()\n",
    "plt.show()"
   ]
  },
  {
   "cell_type": "markdown",
   "metadata": {},
   "source": [
    "### Chargement des modèles pour évaluation"
   ]
  },
  {
   "cell_type": "code",
   "execution_count": 76,
   "metadata": {},
   "outputs": [
    {
     "name": "stderr",
     "output_type": "stream",
     "text": [
      "C:\\Users\\vivie\\AppData\\Local\\Temp\\ipykernel_27840\\302196306.py:4: FutureWarning: You are using `torch.load` with `weights_only=False` (the current default value), which uses the default pickle module implicitly. It is possible to construct malicious pickle data which will execute arbitrary code during unpickling (See https://github.com/pytorch/pytorch/blob/main/SECURITY.md#untrusted-models for more details). In a future release, the default value for `weights_only` will be flipped to `True`. This limits the functions that could be executed during unpickling. Arbitrary objects will no longer be allowed to be loaded via this mode unless they are explicitly allowlisted by the user via `torch.serialization.add_safe_globals`. We recommend you start setting `weights_only=True` for any use case where you don't have full control of the loaded file. Please open an issue on GitHub for any issues related to this experimental feature.\n",
      "  model_snr.load_state_dict(torch.load(\"tasnet_sisnr_epoch_100.pth\"))\n"
     ]
    },
    {
     "ename": "FileNotFoundError",
     "evalue": "[Errno 2] No such file or directory: 'tasnet_sisnr_epoch_100.pth'",
     "output_type": "error",
     "traceback": [
      "\u001b[1;31m---------------------------------------------------------------------------\u001b[0m",
      "\u001b[1;31mFileNotFoundError\u001b[0m                         Traceback (most recent call last)",
      "Cell \u001b[1;32mIn[76], line 4\u001b[0m\n\u001b[0;32m      1\u001b[0m model_snr \u001b[38;5;241m=\u001b[39m TasNet(N\u001b[38;5;241m=\u001b[39mN, L\u001b[38;5;241m=\u001b[39mL, H\u001b[38;5;241m=\u001b[39m\u001b[38;5;241m512\u001b[39m, num_layers\u001b[38;5;241m=\u001b[39m\u001b[38;5;241m1\u001b[39m, M\u001b[38;5;241m=\u001b[39mM)\n\u001b[0;32m      3\u001b[0m \u001b[38;5;66;03m# Step 2: Load the saved weights\u001b[39;00m\n\u001b[1;32m----> 4\u001b[0m model_snr\u001b[38;5;241m.\u001b[39mload_state_dict(\u001b[43mtorch\u001b[49m\u001b[38;5;241;43m.\u001b[39;49m\u001b[43mload\u001b[49m\u001b[43m(\u001b[49m\u001b[38;5;124;43m\"\u001b[39;49m\u001b[38;5;124;43mtasnet_sisnr_epoch_100.pth\u001b[39;49m\u001b[38;5;124;43m\"\u001b[39;49m\u001b[43m)\u001b[49m)\n\u001b[0;32m      5\u001b[0m num_params \u001b[38;5;241m=\u001b[39m \u001b[38;5;28msum\u001b[39m(p\u001b[38;5;241m.\u001b[39mnumel() \u001b[38;5;28;01mfor\u001b[39;00m p \u001b[38;5;129;01min\u001b[39;00m model_snr\u001b[38;5;241m.\u001b[39mparameters() \u001b[38;5;28;01mif\u001b[39;00m p\u001b[38;5;241m.\u001b[39mrequires_grad)\n\u001b[0;32m      6\u001b[0m \u001b[38;5;28mprint\u001b[39m(\u001b[38;5;124mf\u001b[39m\u001b[38;5;124m\"\u001b[39m\u001b[38;5;124mNumber of trainable parameters: \u001b[39m\u001b[38;5;132;01m{\u001b[39;00mnum_params\u001b[38;5;132;01m}\u001b[39;00m\u001b[38;5;124m\"\u001b[39m)\n",
      "File \u001b[1;32mc:\\Users\\vivie\\anaconda3\\envs\\MVA\\lib\\site-packages\\torch\\serialization.py:1319\u001b[0m, in \u001b[0;36mload\u001b[1;34m(f, map_location, pickle_module, weights_only, mmap, **pickle_load_args)\u001b[0m\n\u001b[0;32m   1316\u001b[0m \u001b[38;5;28;01mif\u001b[39;00m \u001b[38;5;124m\"\u001b[39m\u001b[38;5;124mencoding\u001b[39m\u001b[38;5;124m\"\u001b[39m \u001b[38;5;129;01mnot\u001b[39;00m \u001b[38;5;129;01min\u001b[39;00m pickle_load_args\u001b[38;5;241m.\u001b[39mkeys():\n\u001b[0;32m   1317\u001b[0m     pickle_load_args[\u001b[38;5;124m\"\u001b[39m\u001b[38;5;124mencoding\u001b[39m\u001b[38;5;124m\"\u001b[39m] \u001b[38;5;241m=\u001b[39m \u001b[38;5;124m\"\u001b[39m\u001b[38;5;124mutf-8\u001b[39m\u001b[38;5;124m\"\u001b[39m\n\u001b[1;32m-> 1319\u001b[0m \u001b[38;5;28;01mwith\u001b[39;00m \u001b[43m_open_file_like\u001b[49m\u001b[43m(\u001b[49m\u001b[43mf\u001b[49m\u001b[43m,\u001b[49m\u001b[43m \u001b[49m\u001b[38;5;124;43m\"\u001b[39;49m\u001b[38;5;124;43mrb\u001b[39;49m\u001b[38;5;124;43m\"\u001b[39;49m\u001b[43m)\u001b[49m \u001b[38;5;28;01mas\u001b[39;00m opened_file:\n\u001b[0;32m   1320\u001b[0m     \u001b[38;5;28;01mif\u001b[39;00m _is_zipfile(opened_file):\n\u001b[0;32m   1321\u001b[0m         \u001b[38;5;66;03m# The zipfile reader is going to advance the current file position.\u001b[39;00m\n\u001b[0;32m   1322\u001b[0m         \u001b[38;5;66;03m# If we want to actually tail call to torch.jit.load, we need to\u001b[39;00m\n\u001b[0;32m   1323\u001b[0m         \u001b[38;5;66;03m# reset back to the original position.\u001b[39;00m\n\u001b[0;32m   1324\u001b[0m         orig_position \u001b[38;5;241m=\u001b[39m opened_file\u001b[38;5;241m.\u001b[39mtell()\n",
      "File \u001b[1;32mc:\\Users\\vivie\\anaconda3\\envs\\MVA\\lib\\site-packages\\torch\\serialization.py:659\u001b[0m, in \u001b[0;36m_open_file_like\u001b[1;34m(name_or_buffer, mode)\u001b[0m\n\u001b[0;32m    657\u001b[0m \u001b[38;5;28;01mdef\u001b[39;00m \u001b[38;5;21m_open_file_like\u001b[39m(name_or_buffer, mode):\n\u001b[0;32m    658\u001b[0m     \u001b[38;5;28;01mif\u001b[39;00m _is_path(name_or_buffer):\n\u001b[1;32m--> 659\u001b[0m         \u001b[38;5;28;01mreturn\u001b[39;00m \u001b[43m_open_file\u001b[49m\u001b[43m(\u001b[49m\u001b[43mname_or_buffer\u001b[49m\u001b[43m,\u001b[49m\u001b[43m \u001b[49m\u001b[43mmode\u001b[49m\u001b[43m)\u001b[49m\n\u001b[0;32m    660\u001b[0m     \u001b[38;5;28;01melse\u001b[39;00m:\n\u001b[0;32m    661\u001b[0m         \u001b[38;5;28;01mif\u001b[39;00m \u001b[38;5;124m\"\u001b[39m\u001b[38;5;124mw\u001b[39m\u001b[38;5;124m\"\u001b[39m \u001b[38;5;129;01min\u001b[39;00m mode:\n",
      "File \u001b[1;32mc:\\Users\\vivie\\anaconda3\\envs\\MVA\\lib\\site-packages\\torch\\serialization.py:640\u001b[0m, in \u001b[0;36m_open_file.__init__\u001b[1;34m(self, name, mode)\u001b[0m\n\u001b[0;32m    639\u001b[0m \u001b[38;5;28;01mdef\u001b[39;00m \u001b[38;5;21m__init__\u001b[39m(\u001b[38;5;28mself\u001b[39m, name, mode):\n\u001b[1;32m--> 640\u001b[0m     \u001b[38;5;28msuper\u001b[39m()\u001b[38;5;241m.\u001b[39m\u001b[38;5;21m__init__\u001b[39m(\u001b[38;5;28;43mopen\u001b[39;49m\u001b[43m(\u001b[49m\u001b[43mname\u001b[49m\u001b[43m,\u001b[49m\u001b[43m \u001b[49m\u001b[43mmode\u001b[49m\u001b[43m)\u001b[49m)\n",
      "\u001b[1;31mFileNotFoundError\u001b[0m: [Errno 2] No such file or directory: 'tasnet_sisnr_epoch_100.pth'"
     ]
    }
   ],
   "source": [
    "model_snr = TasNet(N=N, L=L, H=512, num_layers=1, M=M)\n",
    "\n",
    "# Step 2: Load the saved weights\n",
    "model_snr.load_state_dict(torch.load(\"tasnet_sisnr_epoch_100.pth\"))\n",
    "num_params = sum(p.numel() for p in model_snr.parameters() if p.requires_grad)\n",
    "print(f\"Number of trainable parameters: {num_params}\")\n",
    "model_snr"
   ]
  },
  {
   "cell_type": "code",
   "execution_count": 77,
   "metadata": {},
   "outputs": [
    {
     "name": "stderr",
     "output_type": "stream",
     "text": [
      "C:\\Users\\vivie\\AppData\\Local\\Temp\\ipykernel_27840\\4091986042.py:4: FutureWarning: You are using `torch.load` with `weights_only=False` (the current default value), which uses the default pickle module implicitly. It is possible to construct malicious pickle data which will execute arbitrary code during unpickling (See https://github.com/pytorch/pytorch/blob/main/SECURITY.md#untrusted-models for more details). In a future release, the default value for `weights_only` will be flipped to `True`. This limits the functions that could be executed during unpickling. Arbitrary objects will no longer be allowed to be loaded via this mode unless they are explicitly allowlisted by the user via `torch.serialization.add_safe_globals`. We recommend you start setting `weights_only=True` for any use case where you don't have full control of the loaded file. Please open an issue on GitHub for any issues related to this experimental feature.\n",
      "  model_small.load_state_dict(torch.load(\"tasnet_mse_small_epoch_100.pth\"))\n"
     ]
    },
    {
     "ename": "FileNotFoundError",
     "evalue": "[Errno 2] No such file or directory: 'tasnet_mse_small_epoch_100.pth'",
     "output_type": "error",
     "traceback": [
      "\u001b[1;31m---------------------------------------------------------------------------\u001b[0m",
      "\u001b[1;31mFileNotFoundError\u001b[0m                         Traceback (most recent call last)",
      "Cell \u001b[1;32mIn[77], line 4\u001b[0m\n\u001b[0;32m      1\u001b[0m model_small \u001b[38;5;241m=\u001b[39m TasNet(N\u001b[38;5;241m=\u001b[39mN, L\u001b[38;5;241m=\u001b[39mL, H\u001b[38;5;241m=\u001b[39m\u001b[38;5;241m128\u001b[39m, num_layers\u001b[38;5;241m=\u001b[39m\u001b[38;5;241m1\u001b[39m, M\u001b[38;5;241m=\u001b[39mM)\n\u001b[0;32m      3\u001b[0m \u001b[38;5;66;03m# Step 2: Load the saved weights\u001b[39;00m\n\u001b[1;32m----> 4\u001b[0m model_small\u001b[38;5;241m.\u001b[39mload_state_dict(\u001b[43mtorch\u001b[49m\u001b[38;5;241;43m.\u001b[39;49m\u001b[43mload\u001b[49m\u001b[43m(\u001b[49m\u001b[38;5;124;43m\"\u001b[39;49m\u001b[38;5;124;43mtasnet_mse_small_epoch_100.pth\u001b[39;49m\u001b[38;5;124;43m\"\u001b[39;49m\u001b[43m)\u001b[49m)\n\u001b[0;32m      5\u001b[0m num_params \u001b[38;5;241m=\u001b[39m \u001b[38;5;28msum\u001b[39m(p\u001b[38;5;241m.\u001b[39mnumel() \u001b[38;5;28;01mfor\u001b[39;00m p \u001b[38;5;129;01min\u001b[39;00m model_small\u001b[38;5;241m.\u001b[39mparameters() \u001b[38;5;28;01mif\u001b[39;00m p\u001b[38;5;241m.\u001b[39mrequires_grad)\n\u001b[0;32m      6\u001b[0m \u001b[38;5;28mprint\u001b[39m(\u001b[38;5;124mf\u001b[39m\u001b[38;5;124m\"\u001b[39m\u001b[38;5;124mNumber of trainable parameters: \u001b[39m\u001b[38;5;132;01m{\u001b[39;00mnum_params\u001b[38;5;132;01m}\u001b[39;00m\u001b[38;5;124m\"\u001b[39m)\n",
      "File \u001b[1;32mc:\\Users\\vivie\\anaconda3\\envs\\MVA\\lib\\site-packages\\torch\\serialization.py:1319\u001b[0m, in \u001b[0;36mload\u001b[1;34m(f, map_location, pickle_module, weights_only, mmap, **pickle_load_args)\u001b[0m\n\u001b[0;32m   1316\u001b[0m \u001b[38;5;28;01mif\u001b[39;00m \u001b[38;5;124m\"\u001b[39m\u001b[38;5;124mencoding\u001b[39m\u001b[38;5;124m\"\u001b[39m \u001b[38;5;129;01mnot\u001b[39;00m \u001b[38;5;129;01min\u001b[39;00m pickle_load_args\u001b[38;5;241m.\u001b[39mkeys():\n\u001b[0;32m   1317\u001b[0m     pickle_load_args[\u001b[38;5;124m\"\u001b[39m\u001b[38;5;124mencoding\u001b[39m\u001b[38;5;124m\"\u001b[39m] \u001b[38;5;241m=\u001b[39m \u001b[38;5;124m\"\u001b[39m\u001b[38;5;124mutf-8\u001b[39m\u001b[38;5;124m\"\u001b[39m\n\u001b[1;32m-> 1319\u001b[0m \u001b[38;5;28;01mwith\u001b[39;00m \u001b[43m_open_file_like\u001b[49m\u001b[43m(\u001b[49m\u001b[43mf\u001b[49m\u001b[43m,\u001b[49m\u001b[43m \u001b[49m\u001b[38;5;124;43m\"\u001b[39;49m\u001b[38;5;124;43mrb\u001b[39;49m\u001b[38;5;124;43m\"\u001b[39;49m\u001b[43m)\u001b[49m \u001b[38;5;28;01mas\u001b[39;00m opened_file:\n\u001b[0;32m   1320\u001b[0m     \u001b[38;5;28;01mif\u001b[39;00m _is_zipfile(opened_file):\n\u001b[0;32m   1321\u001b[0m         \u001b[38;5;66;03m# The zipfile reader is going to advance the current file position.\u001b[39;00m\n\u001b[0;32m   1322\u001b[0m         \u001b[38;5;66;03m# If we want to actually tail call to torch.jit.load, we need to\u001b[39;00m\n\u001b[0;32m   1323\u001b[0m         \u001b[38;5;66;03m# reset back to the original position.\u001b[39;00m\n\u001b[0;32m   1324\u001b[0m         orig_position \u001b[38;5;241m=\u001b[39m opened_file\u001b[38;5;241m.\u001b[39mtell()\n",
      "File \u001b[1;32mc:\\Users\\vivie\\anaconda3\\envs\\MVA\\lib\\site-packages\\torch\\serialization.py:659\u001b[0m, in \u001b[0;36m_open_file_like\u001b[1;34m(name_or_buffer, mode)\u001b[0m\n\u001b[0;32m    657\u001b[0m \u001b[38;5;28;01mdef\u001b[39;00m \u001b[38;5;21m_open_file_like\u001b[39m(name_or_buffer, mode):\n\u001b[0;32m    658\u001b[0m     \u001b[38;5;28;01mif\u001b[39;00m _is_path(name_or_buffer):\n\u001b[1;32m--> 659\u001b[0m         \u001b[38;5;28;01mreturn\u001b[39;00m \u001b[43m_open_file\u001b[49m\u001b[43m(\u001b[49m\u001b[43mname_or_buffer\u001b[49m\u001b[43m,\u001b[49m\u001b[43m \u001b[49m\u001b[43mmode\u001b[49m\u001b[43m)\u001b[49m\n\u001b[0;32m    660\u001b[0m     \u001b[38;5;28;01melse\u001b[39;00m:\n\u001b[0;32m    661\u001b[0m         \u001b[38;5;28;01mif\u001b[39;00m \u001b[38;5;124m\"\u001b[39m\u001b[38;5;124mw\u001b[39m\u001b[38;5;124m\"\u001b[39m \u001b[38;5;129;01min\u001b[39;00m mode:\n",
      "File \u001b[1;32mc:\\Users\\vivie\\anaconda3\\envs\\MVA\\lib\\site-packages\\torch\\serialization.py:640\u001b[0m, in \u001b[0;36m_open_file.__init__\u001b[1;34m(self, name, mode)\u001b[0m\n\u001b[0;32m    639\u001b[0m \u001b[38;5;28;01mdef\u001b[39;00m \u001b[38;5;21m__init__\u001b[39m(\u001b[38;5;28mself\u001b[39m, name, mode):\n\u001b[1;32m--> 640\u001b[0m     \u001b[38;5;28msuper\u001b[39m()\u001b[38;5;241m.\u001b[39m\u001b[38;5;21m__init__\u001b[39m(\u001b[38;5;28;43mopen\u001b[39;49m\u001b[43m(\u001b[49m\u001b[43mname\u001b[49m\u001b[43m,\u001b[49m\u001b[43m \u001b[49m\u001b[43mmode\u001b[49m\u001b[43m)\u001b[49m)\n",
      "\u001b[1;31mFileNotFoundError\u001b[0m: [Errno 2] No such file or directory: 'tasnet_mse_small_epoch_100.pth'"
     ]
    }
   ],
   "source": [
    "model_small = TasNet(N=N, L=L, H=128, num_layers=1, M=M)\n",
    "\n",
    "# Step 2: Load the saved weights\n",
    "model_small.load_state_dict(torch.load(\"tasnet_mse_small_epoch_100.pth\"))\n",
    "num_params = sum(p.numel() for p in model_small.parameters() if p.requires_grad)\n",
    "print(f\"Number of trainable parameters: {num_params}\")\n",
    "model_small"
   ]
  },
  {
   "cell_type": "code",
   "execution_count": 78,
   "metadata": {},
   "outputs": [
    {
     "name": "stderr",
     "output_type": "stream",
     "text": [
      "C:\\Users\\vivie\\AppData\\Local\\Temp\\ipykernel_27840\\3755202042.py:4: FutureWarning: You are using `torch.load` with `weights_only=False` (the current default value), which uses the default pickle module implicitly. It is possible to construct malicious pickle data which will execute arbitrary code during unpickling (See https://github.com/pytorch/pytorch/blob/main/SECURITY.md#untrusted-models for more details). In a future release, the default value for `weights_only` will be flipped to `True`. This limits the functions that could be executed during unpickling. Arbitrary objects will no longer be allowed to be loaded via this mode unless they are explicitly allowlisted by the user via `torch.serialization.add_safe_globals`. We recommend you start setting `weights_only=True` for any use case where you don't have full control of the loaded file. Please open an issue on GitHub for any issues related to this experimental feature.\n",
      "  model_large.load_state_dict(torch.load(\"tasnet_mse_large_epoch_100.pth\"))\n"
     ]
    },
    {
     "ename": "FileNotFoundError",
     "evalue": "[Errno 2] No such file or directory: 'tasnet_mse_large_epoch_100.pth'",
     "output_type": "error",
     "traceback": [
      "\u001b[1;31m---------------------------------------------------------------------------\u001b[0m",
      "\u001b[1;31mFileNotFoundError\u001b[0m                         Traceback (most recent call last)",
      "Cell \u001b[1;32mIn[78], line 4\u001b[0m\n\u001b[0;32m      1\u001b[0m model_large \u001b[38;5;241m=\u001b[39m TasNet(N\u001b[38;5;241m=\u001b[39mN, L\u001b[38;5;241m=\u001b[39mL, H\u001b[38;5;241m=\u001b[39m\u001b[38;5;241m512\u001b[39m, num_layers\u001b[38;5;241m=\u001b[39m\u001b[38;5;241m2\u001b[39m, M\u001b[38;5;241m=\u001b[39mM)\n\u001b[0;32m      3\u001b[0m \u001b[38;5;66;03m# Step 2: Load the saved weights\u001b[39;00m\n\u001b[1;32m----> 4\u001b[0m model_large\u001b[38;5;241m.\u001b[39mload_state_dict(\u001b[43mtorch\u001b[49m\u001b[38;5;241;43m.\u001b[39;49m\u001b[43mload\u001b[49m\u001b[43m(\u001b[49m\u001b[38;5;124;43m\"\u001b[39;49m\u001b[38;5;124;43mtasnet_mse_large_epoch_100.pth\u001b[39;49m\u001b[38;5;124;43m\"\u001b[39;49m\u001b[43m)\u001b[49m)\n\u001b[0;32m      5\u001b[0m num_params \u001b[38;5;241m=\u001b[39m \u001b[38;5;28msum\u001b[39m(p\u001b[38;5;241m.\u001b[39mnumel() \u001b[38;5;28;01mfor\u001b[39;00m p \u001b[38;5;129;01min\u001b[39;00m model_large\u001b[38;5;241m.\u001b[39mparameters() \u001b[38;5;28;01mif\u001b[39;00m p\u001b[38;5;241m.\u001b[39mrequires_grad)\n\u001b[0;32m      6\u001b[0m \u001b[38;5;28mprint\u001b[39m(\u001b[38;5;124mf\u001b[39m\u001b[38;5;124m\"\u001b[39m\u001b[38;5;124mNumber of trainable parameters: \u001b[39m\u001b[38;5;132;01m{\u001b[39;00mnum_params\u001b[38;5;132;01m}\u001b[39;00m\u001b[38;5;124m\"\u001b[39m)\n",
      "File \u001b[1;32mc:\\Users\\vivie\\anaconda3\\envs\\MVA\\lib\\site-packages\\torch\\serialization.py:1319\u001b[0m, in \u001b[0;36mload\u001b[1;34m(f, map_location, pickle_module, weights_only, mmap, **pickle_load_args)\u001b[0m\n\u001b[0;32m   1316\u001b[0m \u001b[38;5;28;01mif\u001b[39;00m \u001b[38;5;124m\"\u001b[39m\u001b[38;5;124mencoding\u001b[39m\u001b[38;5;124m\"\u001b[39m \u001b[38;5;129;01mnot\u001b[39;00m \u001b[38;5;129;01min\u001b[39;00m pickle_load_args\u001b[38;5;241m.\u001b[39mkeys():\n\u001b[0;32m   1317\u001b[0m     pickle_load_args[\u001b[38;5;124m\"\u001b[39m\u001b[38;5;124mencoding\u001b[39m\u001b[38;5;124m\"\u001b[39m] \u001b[38;5;241m=\u001b[39m \u001b[38;5;124m\"\u001b[39m\u001b[38;5;124mutf-8\u001b[39m\u001b[38;5;124m\"\u001b[39m\n\u001b[1;32m-> 1319\u001b[0m \u001b[38;5;28;01mwith\u001b[39;00m \u001b[43m_open_file_like\u001b[49m\u001b[43m(\u001b[49m\u001b[43mf\u001b[49m\u001b[43m,\u001b[49m\u001b[43m \u001b[49m\u001b[38;5;124;43m\"\u001b[39;49m\u001b[38;5;124;43mrb\u001b[39;49m\u001b[38;5;124;43m\"\u001b[39;49m\u001b[43m)\u001b[49m \u001b[38;5;28;01mas\u001b[39;00m opened_file:\n\u001b[0;32m   1320\u001b[0m     \u001b[38;5;28;01mif\u001b[39;00m _is_zipfile(opened_file):\n\u001b[0;32m   1321\u001b[0m         \u001b[38;5;66;03m# The zipfile reader is going to advance the current file position.\u001b[39;00m\n\u001b[0;32m   1322\u001b[0m         \u001b[38;5;66;03m# If we want to actually tail call to torch.jit.load, we need to\u001b[39;00m\n\u001b[0;32m   1323\u001b[0m         \u001b[38;5;66;03m# reset back to the original position.\u001b[39;00m\n\u001b[0;32m   1324\u001b[0m         orig_position \u001b[38;5;241m=\u001b[39m opened_file\u001b[38;5;241m.\u001b[39mtell()\n",
      "File \u001b[1;32mc:\\Users\\vivie\\anaconda3\\envs\\MVA\\lib\\site-packages\\torch\\serialization.py:659\u001b[0m, in \u001b[0;36m_open_file_like\u001b[1;34m(name_or_buffer, mode)\u001b[0m\n\u001b[0;32m    657\u001b[0m \u001b[38;5;28;01mdef\u001b[39;00m \u001b[38;5;21m_open_file_like\u001b[39m(name_or_buffer, mode):\n\u001b[0;32m    658\u001b[0m     \u001b[38;5;28;01mif\u001b[39;00m _is_path(name_or_buffer):\n\u001b[1;32m--> 659\u001b[0m         \u001b[38;5;28;01mreturn\u001b[39;00m \u001b[43m_open_file\u001b[49m\u001b[43m(\u001b[49m\u001b[43mname_or_buffer\u001b[49m\u001b[43m,\u001b[49m\u001b[43m \u001b[49m\u001b[43mmode\u001b[49m\u001b[43m)\u001b[49m\n\u001b[0;32m    660\u001b[0m     \u001b[38;5;28;01melse\u001b[39;00m:\n\u001b[0;32m    661\u001b[0m         \u001b[38;5;28;01mif\u001b[39;00m \u001b[38;5;124m\"\u001b[39m\u001b[38;5;124mw\u001b[39m\u001b[38;5;124m\"\u001b[39m \u001b[38;5;129;01min\u001b[39;00m mode:\n",
      "File \u001b[1;32mc:\\Users\\vivie\\anaconda3\\envs\\MVA\\lib\\site-packages\\torch\\serialization.py:640\u001b[0m, in \u001b[0;36m_open_file.__init__\u001b[1;34m(self, name, mode)\u001b[0m\n\u001b[0;32m    639\u001b[0m \u001b[38;5;28;01mdef\u001b[39;00m \u001b[38;5;21m__init__\u001b[39m(\u001b[38;5;28mself\u001b[39m, name, mode):\n\u001b[1;32m--> 640\u001b[0m     \u001b[38;5;28msuper\u001b[39m()\u001b[38;5;241m.\u001b[39m\u001b[38;5;21m__init__\u001b[39m(\u001b[38;5;28;43mopen\u001b[39;49m\u001b[43m(\u001b[49m\u001b[43mname\u001b[49m\u001b[43m,\u001b[49m\u001b[43m \u001b[49m\u001b[43mmode\u001b[49m\u001b[43m)\u001b[49m)\n",
      "\u001b[1;31mFileNotFoundError\u001b[0m: [Errno 2] No such file or directory: 'tasnet_mse_large_epoch_100.pth'"
     ]
    }
   ],
   "source": [
    "model_large = TasNet(N=N, L=L, H=512, num_layers=2, M=M)\n",
    "\n",
    "# Step 2: Load the saved weights\n",
    "model_large.load_state_dict(torch.load(\"tasnet_mse_large_epoch_100.pth\"))\n",
    "num_params = sum(p.numel() for p in model_large.parameters() if p.requires_grad)\n",
    "print(f\"Number of trainable parameters: {num_params}\")\n",
    "model_large"
   ]
  },
  {
   "cell_type": "markdown",
   "metadata": {},
   "source": [
    "### Résultats visuels"
   ]
  },
  {
   "cell_type": "code",
   "execution_count": 80,
   "metadata": {},
   "outputs": [],
   "source": [
    "def unit_norm(signal):\n",
    "    return signal / np.max(signal)"
   ]
  },
  {
   "cell_type": "code",
   "execution_count": 81,
   "metadata": {},
   "outputs": [],
   "source": [
    "def plot_results(model, index_to_test):\n",
    "    dataset = Mydataset('./signaux/test/')\n",
    "    noised, clean = dataset[index_to_test]\n",
    "\n",
    "    #pass noisy signal through the model\n",
    "    model.eval()\n",
    "    with torch.no_grad():\n",
    "        output = model(noised.unsqueeze(0))\n",
    "        #put numpy\n",
    "        output = output.squeeze(0).cpu().numpy()[0]\n",
    "    noised = noised.cpu().squeeze(0).numpy()\n",
    "    clean = clean.squeeze(0).cpu().numpy()\n",
    "\n",
    "    clean = unit_norm(clean)\n",
    "    noised = unit_norm(noised)\n",
    "    output = unit_norm(output)\n",
    "\n",
    "    temps = np.arange(len(output))/SAMPLERATE\n",
    "    #figure size\n",
    "    plt.figure(figsize=(10,5))\n",
    "    plt.plot(temps, noised, label='Noisy', c='r')\n",
    "    plt.plot(temps, output, label='Output', c='blue')\n",
    "    plt.xlabel('Temps (s)')\n",
    "    plt.legend()\n",
    "    plt.show()\n",
    "\n",
    "    #figure size\n",
    "    plt.figure(figsize=(10,5))\n",
    "    #plt.plot(noisy_signal, label='Noisy')\n",
    "    plt.plot(temps, output, label='Output', c='blue')\n",
    "    plt.plot(temps, clean, label='Clean', c='g')\n",
    "    plt.xlabel('Temps (s)')\n",
    "    plt.legend()\n",
    "    plt.show()"
   ]
  },
  {
   "cell_type": "code",
   "execution_count": 82,
   "metadata": {},
   "outputs": [
    {
     "ename": "FileNotFoundError",
     "evalue": "[WinError 3] Le chemin d’accès spécifié est introuvable: './signaux/test/noisy/'",
     "output_type": "error",
     "traceback": [
      "\u001b[1;31m---------------------------------------------------------------------------\u001b[0m",
      "\u001b[1;31mFileNotFoundError\u001b[0m                         Traceback (most recent call last)",
      "Cell \u001b[1;32mIn[82], line 1\u001b[0m\n\u001b[1;32m----> 1\u001b[0m \u001b[43mplot_results\u001b[49m\u001b[43m(\u001b[49m\u001b[43mmodel_large\u001b[49m\u001b[43m,\u001b[49m\u001b[38;5;241;43m5\u001b[39;49m\u001b[43m)\u001b[49m\n",
      "Cell \u001b[1;32mIn[81], line 2\u001b[0m, in \u001b[0;36mplot_results\u001b[1;34m(model, index_to_test)\u001b[0m\n\u001b[0;32m      1\u001b[0m \u001b[38;5;28;01mdef\u001b[39;00m \u001b[38;5;21mplot_results\u001b[39m(model, index_to_test):\n\u001b[1;32m----> 2\u001b[0m     dataset \u001b[38;5;241m=\u001b[39m \u001b[43mMydataset\u001b[49m\u001b[43m(\u001b[49m\u001b[38;5;124;43m'\u001b[39;49m\u001b[38;5;124;43m./signaux/test/\u001b[39;49m\u001b[38;5;124;43m'\u001b[39;49m\u001b[43m)\u001b[49m\n\u001b[0;32m      3\u001b[0m     noised, clean \u001b[38;5;241m=\u001b[39m dataset[index_to_test]\n\u001b[0;32m      5\u001b[0m     \u001b[38;5;66;03m#pass noisy signal through the model\u001b[39;00m\n",
      "Cell \u001b[1;32mIn[56], line 4\u001b[0m, in \u001b[0;36mMydataset.__init__\u001b[1;34m(self, path_to_data)\u001b[0m\n\u001b[0;32m      2\u001b[0m \u001b[38;5;28;01mdef\u001b[39;00m \u001b[38;5;21m__init__\u001b[39m(\u001b[38;5;28mself\u001b[39m, path_to_data):\n\u001b[0;32m      3\u001b[0m     \u001b[38;5;28mself\u001b[39m\u001b[38;5;241m.\u001b[39mpath_to_data \u001b[38;5;241m=\u001b[39m path_to_data\n\u001b[1;32m----> 4\u001b[0m     \u001b[38;5;28mself\u001b[39m\u001b[38;5;241m.\u001b[39mX \u001b[38;5;241m=\u001b[39m [elt \u001b[38;5;28;01mfor\u001b[39;00m elt \u001b[38;5;129;01min\u001b[39;00m \u001b[43mos\u001b[49m\u001b[38;5;241;43m.\u001b[39;49m\u001b[43mlistdir\u001b[49m\u001b[43m(\u001b[49m\u001b[43mpath_to_data\u001b[49m\u001b[43m \u001b[49m\u001b[38;5;241;43m+\u001b[39;49m\u001b[43m \u001b[49m\u001b[38;5;124;43m'\u001b[39;49m\u001b[38;5;124;43mnoisy/\u001b[39;49m\u001b[38;5;124;43m'\u001b[39;49m\u001b[43m)\u001b[49m]\n\u001b[0;32m      5\u001b[0m     \u001b[38;5;28mself\u001b[39m\u001b[38;5;241m.\u001b[39mY \u001b[38;5;241m=\u001b[39m [elt \u001b[38;5;28;01mfor\u001b[39;00m elt \u001b[38;5;129;01min\u001b[39;00m os\u001b[38;5;241m.\u001b[39mlistdir(path_to_data \u001b[38;5;241m+\u001b[39m \u001b[38;5;124m'\u001b[39m\u001b[38;5;124morigin/\u001b[39m\u001b[38;5;124m'\u001b[39m)]\n",
      "\u001b[1;31mFileNotFoundError\u001b[0m: [WinError 3] Le chemin d’accès spécifié est introuvable: './signaux/test/noisy/'"
     ]
    }
   ],
   "source": [
    "plot_results(model_large,5)"
   ]
  },
  {
   "cell_type": "markdown",
   "metadata": {},
   "source": [
    "### stoi"
   ]
  },
  {
   "cell_type": "code",
   "execution_count": 83,
   "metadata": {},
   "outputs": [
    {
     "ename": "NameError",
     "evalue": "name 'noised' is not defined",
     "output_type": "error",
     "traceback": [
      "\u001b[1;31m---------------------------------------------------------------------------\u001b[0m",
      "\u001b[1;31mNameError\u001b[0m                                 Traceback (most recent call last)",
      "Cell \u001b[1;32mIn[83], line 1\u001b[0m\n\u001b[1;32m----> 1\u001b[0m original_stoi, new_stoi \u001b[38;5;241m=\u001b[39m stoi(\u001b[43mnoised\u001b[49m, clean, SAMPLERATE) , stoi(output, clean, SAMPLERATE)\n\u001b[0;32m      2\u001b[0m \u001b[38;5;28mprint\u001b[39m(\u001b[38;5;124mf\u001b[39m\u001b[38;5;124m\"\u001b[39m\u001b[38;5;124mOn passe d\u001b[39m\u001b[38;5;124m'\u001b[39m\u001b[38;5;124mun stoi de \u001b[39m\u001b[38;5;132;01m{\u001b[39;00moriginal_stoi\u001b[38;5;132;01m}\u001b[39;00m\u001b[38;5;124m à \u001b[39m\u001b[38;5;132;01m{\u001b[39;00mnew_stoi\u001b[38;5;132;01m}\u001b[39;00m\u001b[38;5;124m en denoisant\u001b[39m\u001b[38;5;124m\"\u001b[39m)\n",
      "\u001b[1;31mNameError\u001b[0m: name 'noised' is not defined"
     ]
    }
   ],
   "source": [
    "original_stoi, new_stoi = stoi(noised, clean, SAMPLERATE) , stoi(output, clean, SAMPLERATE)\n",
    "print(f\"On passe d'un stoi de {original_stoi} à {new_stoi} en denoisant\")"
   ]
  },
  {
   "cell_type": "code",
   "execution_count": 84,
   "metadata": {},
   "outputs": [],
   "source": [
    "def compute_stoi(model, dataloader):\n",
    "    stoi_values = []\n",
    "    for noisy_signals, clean_signals in tqdm(dataloader_test):\n",
    "        for i in range(len(noisy_signals)):\n",
    "            noisy_signal = noisy_signals[i]\n",
    "            noisy_signal = noisy_signal.cpu()\n",
    "            model.eval()\n",
    "            with torch.no_grad():\n",
    "                output = model(noisy_signal.unsqueeze(0))\n",
    "                output = output.squeeze(0).cpu().numpy()[0]\n",
    "            stoi_values.append(stoi(clean_signals[i].squeeze(0).cpu().numpy(), output, SAMPLERATE))\n",
    "    return np.mean(stoi_values)"
   ]
  },
  {
   "cell_type": "code",
   "execution_count": 85,
   "metadata": {},
   "outputs": [
    {
     "ename": "TypeError",
     "evalue": "'module' object is not callable",
     "output_type": "error",
     "traceback": [
      "\u001b[1;31m---------------------------------------------------------------------------\u001b[0m",
      "\u001b[1;31mTypeError\u001b[0m                                 Traceback (most recent call last)",
      "Cell \u001b[1;32mIn[85], line 1\u001b[0m\n\u001b[1;32m----> 1\u001b[0m stoi \u001b[38;5;241m=\u001b[39m \u001b[43mcompute_stoi\u001b[49m\u001b[43m(\u001b[49m\u001b[43mtasnet\u001b[49m\u001b[43m,\u001b[49m\u001b[43m \u001b[49m\u001b[43mdataloader_test\u001b[49m\u001b[43m)\u001b[49m\n\u001b[0;32m      2\u001b[0m \u001b[38;5;28mprint\u001b[39m(\u001b[38;5;124mf\u001b[39m\u001b[38;5;124m\"\u001b[39m\u001b[38;5;124mLe stoi moyen pour le modèle dummy est de \u001b[39m\u001b[38;5;132;01m{\u001b[39;00mstoi\u001b[38;5;132;01m}\u001b[39;00m\u001b[38;5;124m\"\u001b[39m)\n",
      "Cell \u001b[1;32mIn[84], line 3\u001b[0m, in \u001b[0;36mcompute_stoi\u001b[1;34m(model, dataloader)\u001b[0m\n\u001b[0;32m      1\u001b[0m \u001b[38;5;28;01mdef\u001b[39;00m \u001b[38;5;21mcompute_stoi\u001b[39m(model, dataloader):\n\u001b[0;32m      2\u001b[0m     stoi_values \u001b[38;5;241m=\u001b[39m []\n\u001b[1;32m----> 3\u001b[0m     \u001b[38;5;28;01mfor\u001b[39;00m noisy_signals, clean_signals \u001b[38;5;129;01min\u001b[39;00m \u001b[43mtqdm\u001b[49m\u001b[43m(\u001b[49m\u001b[43mdataloader_test\u001b[49m\u001b[43m)\u001b[49m:\n\u001b[0;32m      4\u001b[0m         \u001b[38;5;28;01mfor\u001b[39;00m i \u001b[38;5;129;01min\u001b[39;00m \u001b[38;5;28mrange\u001b[39m(\u001b[38;5;28mlen\u001b[39m(noisy_signals)):\n\u001b[0;32m      5\u001b[0m             noisy_signal \u001b[38;5;241m=\u001b[39m noisy_signals[i]\n",
      "\u001b[1;31mTypeError\u001b[0m: 'module' object is not callable"
     ]
    }
   ],
   "source": [
    "stoi = compute_stoi(tasnet, dataloader_test)\n",
    "print(f\"Le stoi moyen pour le modèle dummy est de {stoi}\")"
   ]
  }
 ],
 "metadata": {
  "kernelspec": {
   "display_name": "MVA",
   "language": "python",
   "name": "python3"
  },
  "language_info": {
   "codemirror_mode": {
    "name": "ipython",
    "version": 3
   },
   "file_extension": ".py",
   "mimetype": "text/x-python",
   "name": "python",
   "nbconvert_exporter": "python",
   "pygments_lexer": "ipython3",
   "version": "3.10.14"
  }
 },
 "nbformat": 4,
 "nbformat_minor": 2
}
